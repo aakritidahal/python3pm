{
 "cells": [
  {
   "cell_type": "code",
   "execution_count": 1,
   "id": "073e688c",
   "metadata": {},
   "outputs": [
    {
     "ename": "FileNotFoundError",
     "evalue": "[Errno 2] No such file or directory: 'data.txt'",
     "output_type": "error",
     "traceback": [
      "\u001b[1;31m---------------------------------------------------------------------------\u001b[0m",
      "\u001b[1;31mFileNotFoundError\u001b[0m                         Traceback (most recent call last)",
      "\u001b[1;32m~\\AppData\\Local\\Temp/ipykernel_11700/2185146313.py\u001b[0m in \u001b[0;36m<module>\u001b[1;34m\u001b[0m\n\u001b[1;32m----> 1\u001b[1;33m \u001b[0mb\u001b[0m \u001b[1;33m=\u001b[0m \u001b[0mopen\u001b[0m\u001b[1;33m(\u001b[0m\u001b[1;34m'data.txt'\u001b[0m\u001b[1;33m,\u001b[0m\u001b[1;34m'r'\u001b[0m\u001b[1;33m)\u001b[0m\u001b[1;33m\u001b[0m\u001b[1;33m\u001b[0m\u001b[0m\n\u001b[0m\u001b[0;32m      2\u001b[0m \u001b[0mx\u001b[0m \u001b[1;33m=\u001b[0m \u001b[0mb\u001b[0m\u001b[1;33m.\u001b[0m\u001b[0mread\u001b[0m\u001b[1;33m(\u001b[0m\u001b[1;33m)\u001b[0m\u001b[1;33m.\u001b[0m\u001b[0msplit\u001b[0m\u001b[1;33m(\u001b[0m\u001b[1;34m'\\n'\u001b[0m\u001b[1;33m)\u001b[0m\u001b[1;33m\u001b[0m\u001b[1;33m\u001b[0m\u001b[0m\n\u001b[0;32m      3\u001b[0m \u001b[0mprint\u001b[0m\u001b[1;33m(\u001b[0m\u001b[0mx\u001b[0m\u001b[1;33m)\u001b[0m\u001b[1;33m\u001b[0m\u001b[1;33m\u001b[0m\u001b[0m\n\u001b[0;32m      4\u001b[0m \u001b[0mb\u001b[0m\u001b[1;33m.\u001b[0m\u001b[0mclose\u001b[0m\u001b[1;33m(\u001b[0m\u001b[1;33m)\u001b[0m\u001b[1;33m\u001b[0m\u001b[1;33m\u001b[0m\u001b[0m\n",
      "\u001b[1;31mFileNotFoundError\u001b[0m: [Errno 2] No such file or directory: 'data.txt'"
     ]
    }
   ],
   "source": [
    "b = open('data.txt','r')\n",
    "x = b.read().split('\\n')\n",
    "print(x)\n",
    "b.close()\n"
   ]
  },
  {
   "cell_type": "code",
   "execution_count": 3,
   "id": "99e2444b",
   "metadata": {},
   "outputs": [
    {
     "name": "stdout",
     "output_type": "stream",
     "text": [
      "The file is already there\n"
     ]
    }
   ],
   "source": [
    "try:\n",
    "    b = open ('data.txt',\"x\")\n",
    "    b.close()\n",
    "except:\n",
    "    print(\"The file is already there\")\n",
    "    "
   ]
  },
  {
   "cell_type": "code",
   "execution_count": 5,
   "id": "557390b3",
   "metadata": {},
   "outputs": [
    {
     "name": "stdout",
     "output_type": "stream",
     "text": [
      "<class 'str'>\n",
      "1. Hello world\n",
      "2. Hello World\n",
      "3. Hello World\n",
      "\n"
     ]
    }
   ],
   "source": [
    "b = open('data.txt',\"r\")\n",
    "x = b.read()\n",
    "print (type(x))\n",
    "print(x)\n",
    "print (b.read())\n",
    "b.close()"
   ]
  },
  {
   "cell_type": "code",
   "execution_count": 7,
   "id": "34ffd7be",
   "metadata": {},
   "outputs": [
    {
     "name": "stdout",
     "output_type": "stream",
     "text": [
      "<class 'str'>\n"
     ]
    },
    {
     "data": {
      "text/plain": [
       "['Apple, Ball, Cat, Dog']"
      ]
     },
     "execution_count": 7,
     "metadata": {},
     "output_type": "execute_result"
    }
   ],
   "source": [
    "a = 'Apple, Ball, Cat, Dog'\n",
    "print(type(a))\n",
    "a.split(\"-\")"
   ]
  },
  {
   "cell_type": "code",
   "execution_count": 8,
   "id": "48d3fa23",
   "metadata": {},
   "outputs": [
    {
     "name": "stdout",
     "output_type": "stream",
     "text": [
      "1. Hello world\n",
      "2. Hello World\n",
      "3. Hello World\n"
     ]
    }
   ],
   "source": [
    "with open ('data.txt',\"r\") as b:\n",
    "    print (b.read())\n"
   ]
  },
  {
   "cell_type": "code",
   "execution_count": 9,
   "id": "1341a17d",
   "metadata": {},
   "outputs": [
    {
     "name": "stdout",
     "output_type": "stream",
     "text": [
      "enter line_no =1\n",
      "1\n"
     ]
    }
   ],
   "source": [
    "line_no = int(input(\"enter line_no =\"))\n",
    "print(x[line_no-1])"
   ]
  },
  {
   "cell_type": "code",
   "execution_count": 13,
   "id": "c5a215f8",
   "metadata": {},
   "outputs": [
    {
     "name": "stdout",
     "output_type": "stream",
     "text": [
      "hel\n"
     ]
    }
   ],
   "source": [
    "b = open('data.txt', 'r')\n",
    "print(b.read(3))\n",
    "b.close()"
   ]
  },
  {
   "cell_type": "code",
   "execution_count": 12,
   "id": "407cb152",
   "metadata": {},
   "outputs": [],
   "source": [
    "b = open('datas.txt', 'w')\n",
    "b.write('hello world I am python')\n",
    "b.close()"
   ]
  },
  {
   "cell_type": "code",
   "execution_count": 23,
   "id": "6221a772",
   "metadata": {},
   "outputs": [
    {
     "name": "stdout",
     "output_type": "stream",
     "text": [
      "enter n= 2\n",
      "enter name =ram\n",
      "enter age =23\n",
      "enter address =ktm\n",
      "hello i am ram I am from ktm I am 23 years old\n"
     ]
    }
   ],
   "source": [
    "\n",
    "\n",
    "n = int(input(\"enter n= \"))\n",
    "name = input(\"enter name =\")\n",
    "age = int(input(\"enter age =\"))\n",
    "add = input(\"enter address =\")\n",
    "\n",
    "info = f\"hello i am {name} I am from {add} I am {age} years old\"\n",
    "print(info)\n",
    "\n",
    "b= open('datas.txt', 'w')\n",
    "b.write(info)\n",
    "b.close()"
   ]
  },
  {
   "cell_type": "code",
   "execution_count": 24,
   "id": "2986f919",
   "metadata": {},
   "outputs": [
    {
     "name": "stdout",
     "output_type": "stream",
     "text": [
      "enter n= 1\n",
      "enter name =ram\n",
      "enter age =23\n",
      "enter address =ktm\n",
      "hello i am ram I am from ktm I am 23 years old\n"
     ]
    }
   ],
   "source": [
    "n = int(input(\"enter n= \"))\n",
    "name = input(\"enter name =\")\n",
    "age = int(input(\"enter age =\"))\n",
    "add = input(\"enter address =\")\n",
    "\n",
    "info = f\"hello i am {name} I am from {add} I am {age} years old\"\n",
    "print(info)\n",
    "\n",
    "b= open('datas.csv', 'w')\n",
    "b.write(info)\n",
    "b.close()"
   ]
  },
  {
   "cell_type": "code",
   "execution_count": 25,
   "id": "08efafc0",
   "metadata": {},
   "outputs": [
    {
     "data": {
      "text/plain": [
       "'C:\\\\Users\\\\Lenovo'"
      ]
     },
     "execution_count": 25,
     "metadata": {},
     "output_type": "execute_result"
    }
   ],
   "source": [
    "pwd"
   ]
  },
  {
   "cell_type": "code",
   "execution_count": 31,
   "id": "1e92c314",
   "metadata": {},
   "outputs": [
    {
     "name": "stdout",
     "output_type": "stream",
     "text": [
      "enter name =ram\n",
      "enter age =34\n",
      "enter address =ktm\n",
      "hello i am ram I am from ktm I am 34 years old \n",
      "\n"
     ]
    }
   ],
   "source": [
    "s =str ()\n",
    "\n",
    "name = input(\"enter name =\")\n",
    "age = int(input(\"enter age =\"))\n",
    "add = input(\"enter address =\")\n",
    "\n",
    "info = f\"hello i am {name} I am from {add} I am {age} years old \\n\"\n",
    "print(info)\n",
    "\n",
    "b= open('datas.csv', 'w')\n",
    "b.write('name,phone, add \\n')\n",
    "b.write(s)\n",
    "b.close()"
   ]
  },
  {
   "cell_type": "code",
   "execution_count": 2,
   "id": "e3cc1f87",
   "metadata": {},
   "outputs": [
    {
     "data": {
      "text/html": [
       "<div>\n",
       "<style scoped>\n",
       "    .dataframe tbody tr th:only-of-type {\n",
       "        vertical-align: middle;\n",
       "    }\n",
       "\n",
       "    .dataframe tbody tr th {\n",
       "        vertical-align: top;\n",
       "    }\n",
       "\n",
       "    .dataframe thead th {\n",
       "        text-align: right;\n",
       "    }\n",
       "</style>\n",
       "<table border=\"1\" class=\"dataframe\">\n",
       "  <thead>\n",
       "    <tr style=\"text-align: right;\">\n",
       "      <th></th>\n",
       "      <th>name</th>\n",
       "      <th>phone</th>\n",
       "      <th>add</th>\n",
       "    </tr>\n",
       "  </thead>\n",
       "  <tbody>\n",
       "  </tbody>\n",
       "</table>\n",
       "</div>"
      ],
      "text/plain": [
       "Empty DataFrame\n",
       "Columns: [name, phone,  add ]\n",
       "Index: []"
      ]
     },
     "execution_count": 2,
     "metadata": {},
     "output_type": "execute_result"
    }
   ],
   "source": [
    "import pandas as pd\n",
    "df = pd.read_csv('datas.csv')\n",
    "df"
   ]
  },
  {
   "cell_type": "code",
   "execution_count": null,
   "id": "1b83189a",
   "metadata": {},
   "outputs": [],
   "source": []
  }
 ],
 "metadata": {
  "kernelspec": {
   "display_name": "Python 3 (ipykernel)",
   "language": "python",
   "name": "python3"
  },
  "language_info": {
   "codemirror_mode": {
    "name": "ipython",
    "version": 3
   },
   "file_extension": ".py",
   "mimetype": "text/x-python",
   "name": "python",
   "nbconvert_exporter": "python",
   "pygments_lexer": "ipython3",
   "version": "3.9.7"
  }
 },
 "nbformat": 4,
 "nbformat_minor": 5
}
