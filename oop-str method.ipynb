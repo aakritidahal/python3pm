{
 "cells": [
  {
   "cell_type": "code",
   "execution_count": 2,
   "id": "2cda7ea9",
   "metadata": {},
   "outputs": [
    {
     "name": "stdout",
     "output_type": "stream",
     "text": [
      "Ram\n",
      "<class '__main__.Information'>\n"
     ]
    }
   ],
   "source": [
    "class Information:\n",
    "    def __init__ (self,name,age,add):\n",
    "        self.name = name\n",
    "        self.age = age\n",
    "        self.add = add\n",
    "        \n",
    "    def __str__(self):\n",
    "        return self.name\n",
    "    \n",
    "obj = Information(\"Ram\", 34, \"Kathmandu\")\n",
    "print(obj)\n",
    "print(type(obj))\n",
    "\n"
   ]
  },
  {
   "cell_type": "code",
   "execution_count": 3,
   "id": "21420e90",
   "metadata": {},
   "outputs": [
    {
     "name": "stdout",
     "output_type": "stream",
     "text": [
      "Ram\n",
      "<class '__main__.Information'>\n",
      "Ram\n"
     ]
    }
   ],
   "source": [
    "class Information:\n",
    "    def __init__ (self,name,age,add):\n",
    "        self.name = name\n",
    "        self.age = age\n",
    "        self.add = add\n",
    "        \n",
    "    def hello(self):\n",
    "        return self.name\n",
    "        \n",
    "    def __str__(self):\n",
    "        return self.name\n",
    "    \n",
    "obj = Information(\"Ram\", 34, \"Kathmandu\")\n",
    "print(obj)\n",
    "print(type(obj))\n",
    "print (obj.hello())"
   ]
  },
  {
   "cell_type": "code",
   "execution_count": 8,
   "id": "be4adfd5",
   "metadata": {},
   "outputs": [
    {
     "name": "stdout",
     "output_type": "stream",
     "text": [
      "4 -5\n"
     ]
    }
   ],
   "source": [
    "class Point:\n",
    "    def __init__(self, x, y):\n",
    "        self.x = x\n",
    "        self.y = y\n",
    "        \n",
    "    def __str__(self):\n",
    "        return f\"{self.x} {self.y}\"\n",
    "    \n",
    "    def __add__(self,other):\n",
    "        x = self.x + other.x\n",
    "        y = self.y + other.y\n",
    "        return Point (x,y)\n",
    "        \n",
    "        \n",
    "p1 = Point(2,3)\n",
    "p2 = Point(2,-8)\n",
    "print(p1+p2)"
   ]
  },
  {
   "cell_type": "code",
   "execution_count": 14,
   "id": "8ab2f1ce",
   "metadata": {},
   "outputs": [
    {
     "name": "stdout",
     "output_type": "stream",
     "text": [
      "this is init function 1000\n",
      "this is init function 2300\n",
      "this is init function 3000\n",
      "this is add funtion 3300\n",
      "this is init function 3300\n",
      "this is add funtion 6300\n",
      "this is init function 6300\n",
      "this is str function 6300\n",
      "6300\n"
     ]
    }
   ],
   "source": [
    "class Ecommerce:\n",
    "    def __init__(self,price):\n",
    "        self.price = price\n",
    "        print(\"this is init function\", self.price)\n",
    "        \n",
    "    def __str__ (self):\n",
    "        print('this is str function', self.price)\n",
    "        return str(self.price)\n",
    "    \n",
    "    def __add__(self,other):\n",
    "        s = self.price + other.price\n",
    "        print('this is add funtion',s)\n",
    "        return Ecommerce(s)\n",
    "        \n",
    "p1 = Ecommerce(1000)\n",
    "p2 = Ecommerce(2300)\n",
    "p3 = Ecommerce (3000)\n",
    "\n",
    "print(p1+p2+p3)\n"
   ]
  },
  {
   "cell_type": "code",
   "execution_count": null,
   "id": "eb643f1e",
   "metadata": {},
   "outputs": [],
   "source": []
  }
 ],
 "metadata": {
  "kernelspec": {
   "display_name": "Python 3 (ipykernel)",
   "language": "python",
   "name": "python3"
  },
  "language_info": {
   "codemirror_mode": {
    "name": "ipython",
    "version": 3
   },
   "file_extension": ".py",
   "mimetype": "text/x-python",
   "name": "python",
   "nbconvert_exporter": "python",
   "pygments_lexer": "ipython3",
   "version": "3.9.7"
  }
 },
 "nbformat": 4,
 "nbformat_minor": 5
}
