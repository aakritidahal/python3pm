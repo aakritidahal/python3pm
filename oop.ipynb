{
 "cells": [
  {
   "cell_type": "code",
   "execution_count": 1,
   "id": "f8cda0b2",
   "metadata": {},
   "outputs": [],
   "source": [
    "# class <class_name>:\n",
    "#     <operations>\n",
    "\n",
    "# obj = <class_name>()"
   ]
  },
  {
   "cell_type": "code",
   "execution_count": 2,
   "id": "1e4a09e3",
   "metadata": {},
   "outputs": [
    {
     "name": "stdout",
     "output_type": "stream",
     "text": [
      "hello world\n"
     ]
    }
   ],
   "source": [
    "class Hello:                 #class\n",
    "    print('hello world')\n",
    "    \n",
    "obj = Hello()               #object"
   ]
  },
  {
   "cell_type": "code",
   "execution_count": 5,
   "id": "ca1dc609",
   "metadata": {},
   "outputs": [
    {
     "name": "stdout",
     "output_type": "stream",
     "text": [
      "Hello world\n"
     ]
    }
   ],
   "source": [
    "class Hello:\n",
    "    \n",
    "    def hello(self):\n",
    "        print(\"Hello world\")\n",
    "        \n",
    "obj = Hello()\n",
    "obj.hello()"
   ]
  },
  {
   "cell_type": "code",
   "execution_count": 6,
   "id": "43f7e845",
   "metadata": {},
   "outputs": [
    {
     "name": "stdout",
     "output_type": "stream",
     "text": [
      "Hello world\n"
     ]
    }
   ],
   "source": [
    "class Hello:\n",
    "    @staticmethod\n",
    "    def hello():\n",
    "        print(\"Hello world\")\n",
    "        \n",
    "obj = Hello()\n",
    "obj.hello()"
   ]
  },
  {
   "cell_type": "code",
   "execution_count": 9,
   "id": "dfa9dc4e",
   "metadata": {},
   "outputs": [
    {
     "name": "stdout",
     "output_type": "stream",
     "text": [
      "50\n"
     ]
    }
   ],
   "source": [
    "class Area:\n",
    "    @staticmethod\n",
    "    def area(l,b):\n",
    "        print(l*b)\n",
    "    \n",
    "obj = Area()\n",
    "obj.area(10,5)"
   ]
  },
  {
   "cell_type": "code",
   "execution_count": 10,
   "id": "d2ec0d9a",
   "metadata": {},
   "outputs": [
    {
     "name": "stdout",
     "output_type": "stream",
     "text": [
      "50\n"
     ]
    }
   ],
   "source": [
    "class Area:\n",
    "    \n",
    "    def area(self,l,b):\n",
    "        print(l*b)\n",
    "    \n",
    "obj = Area()\n",
    "obj.area(10,5)"
   ]
  },
  {
   "cell_type": "code",
   "execution_count": 12,
   "id": "880db244",
   "metadata": {},
   "outputs": [
    {
     "name": "stdout",
     "output_type": "stream",
     "text": [
      "50\n",
      "150\n"
     ]
    }
   ],
   "source": [
    "class cal:\n",
    "    \n",
    "    def area(self,l,b):\n",
    "        print(l*b)\n",
    "    def volume(self,l,b,h):\n",
    "        print(l*b*h)\n",
    "    \n",
    "obj = cal()\n",
    "obj.area(10,5)\n",
    "obj.volume(10,5,3)"
   ]
  },
  {
   "cell_type": "code",
   "execution_count": 14,
   "id": "da9dff2d",
   "metadata": {},
   "outputs": [
    {
     "name": "stdout",
     "output_type": "stream",
     "text": [
      "50\n",
      "100\n"
     ]
    }
   ],
   "source": [
    "class cal:\n",
    "    def __init__(self,l,b,h):\n",
    "        self.l = l\n",
    "        self.b = b\n",
    "        self.h = h\n",
    "        \n",
    "    def area(self):\n",
    "        print(self.l*self.b)\n",
    "        \n",
    "    def volume(self):\n",
    "        print(self.l*self.b*self.h)\n",
    "        \n",
    "obj = cal(10,5,2)\n",
    "obj.area()\n",
    "obj.volume()\n",
    "    \n",
    "        "
   ]
  },
  {
   "cell_type": "code",
   "execution_count": 16,
   "id": "a1824b32",
   "metadata": {},
   "outputs": [
    {
     "name": "stdout",
     "output_type": "stream",
     "text": [
      "enter l=5\n",
      "enter b=2\n",
      "enter h=3\n",
      "10\n",
      "30\n"
     ]
    }
   ],
   "source": [
    "class cal:\n",
    "    def __init__(self):\n",
    "        self.l = int(input('enter l='))\n",
    "        self.b = int(input('enter b='))\n",
    "        self.h = int(input('enter h='))\n",
    "        \n",
    "    def area(self):\n",
    "        print(self.l*self.b)\n",
    "        \n",
    "    def volume(self):\n",
    "        print(self.l*self.b*self.h)\n",
    "        \n",
    "obj = cal()\n",
    "obj.area()\n",
    "obj.volume()\n",
    "    \n",
    "        "
   ]
  },
  {
   "cell_type": "code",
   "execution_count": 17,
   "id": "d34fdcde",
   "metadata": {},
   "outputs": [
    {
     "name": "stdout",
     "output_type": "stream",
     "text": [
      "50\n",
      "100\n",
      "44\n",
      "88\n"
     ]
    }
   ],
   "source": [
    "class cal:\n",
    "    def __init__(self,l,b,h):\n",
    "        self.l = l\n",
    "        self.b = b\n",
    "        self.h = h\n",
    "        \n",
    "    def area(self):\n",
    "        print(self.l*self.b)\n",
    "        \n",
    "    def volume(self):\n",
    "        print(self.l*self.b*self.h)\n",
    "        \n",
    "obj = cal(10,5,2)\n",
    "obj.area()\n",
    "obj.volume()\n",
    "    \n",
    "obj1 = cal(11,4,2)\n",
    "obj1.area()\n",
    "obj1.volume()"
   ]
  },
  {
   "cell_type": "code",
   "execution_count": 19,
   "id": "2a06820e",
   "metadata": {},
   "outputs": [
    {
     "name": "stdout",
     "output_type": "stream",
     "text": [
      "50\n",
      "100\n"
     ]
    }
   ],
   "source": [
    "class Area:\n",
    "    def __init__ (self, l,b):\n",
    "        self.l = l\n",
    "        self.b = b\n",
    "    def area(self):\n",
    "        a = self.l*self.b\n",
    "        print(a)\n",
    "        \n",
    "class volume:\n",
    "    def __init__ (self,l,b,h):\n",
    "        self.l = l\n",
    "        self.b = b\n",
    "        self.h = h\n",
    "    def volume(self):\n",
    "        v = self.l *self.b * self.h\n",
    "        print(v)\n",
    "        \n",
    "obj1 = Area(10,5)\n",
    "obj1.area()\n",
    "\n",
    "obj2 = volume(10,5,2)\n",
    "obj2.volume()\n",
    "    "
   ]
  },
  {
   "cell_type": "code",
   "execution_count": 1,
   "id": "337d69f7",
   "metadata": {},
   "outputs": [],
   "source": [
    "#wap to make a data entry application using oop.\n",
    "#Wap to read and write data in csv and pandas"
   ]
  },
  {
   "cell_type": "code",
   "execution_count": null,
   "id": "0018a10c",
   "metadata": {
    "scrolled": true
   },
   "outputs": [],
   "source": [
    "\n"
   ]
  },
  {
   "cell_type": "code",
   "execution_count": 10,
   "id": "fdae0b06",
   "metadata": {},
   "outputs": [
    {
     "name": "stdout",
     "output_type": "stream",
     "text": [
      "enter n=2\n",
      "enter name =Akriti\n",
      "enter address=Ktm\n",
      "enter phone no=95597373\n",
      "enter name =Namita\n",
      "enter address=boudha\n",
      "enter phone no=9584337\n",
      "Namita\n",
      "boudha\n",
      "9584337\n"
     ]
    }
   ],
   "source": [
    "n = int(input('enter n='))\n",
    "for i in range (n):\n",
    "    Name = input('enter name =')\n",
    "    Address = input('enter address=')\n",
    "    phone = int(input('enter phone no='))\n",
    "\n",
    "class Dataentry:\n",
    "    def Name(self):\n",
    "        self.Name = Name\n",
    "        print(Name)\n",
    "        \n",
    "    def Address(self):\n",
    "        self.Address = Address\n",
    "        print(Address)\n",
    "        \n",
    "    def phone(self):\n",
    "        self.phone = phone\n",
    "        print(phone)\n",
    "                         \n",
    "                         \n",
    "obj = Dataentry()\n",
    "obj.Name()\n",
    "obj.Address()\n",
    "obj.phone()"
   ]
  },
  {
   "cell_type": "code",
   "execution_count": null,
   "id": "38fc33d1",
   "metadata": {},
   "outputs": [],
   "source": []
  }
 ],
 "metadata": {
  "kernelspec": {
   "display_name": "Python 3 (ipykernel)",
   "language": "python",
   "name": "python3"
  },
  "language_info": {
   "codemirror_mode": {
    "name": "ipython",
    "version": 3
   },
   "file_extension": ".py",
   "mimetype": "text/x-python",
   "name": "python",
   "nbconvert_exporter": "python",
   "pygments_lexer": "ipython3",
   "version": "3.9.7"
  }
 },
 "nbformat": 4,
 "nbformat_minor": 5
}
