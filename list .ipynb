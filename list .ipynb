{
 "cells": [
  {
   "cell_type": "code",
   "execution_count": 1,
   "id": "5ad439b2",
   "metadata": {},
   "outputs": [],
   "source": [
    "# #list\n",
    "# -indexed\n",
    "# -ordered\n",
    "# -multiple and duplicate\n",
    "# -mutable"
   ]
  },
  {
   "cell_type": "code",
   "execution_count": 2,
   "id": "71ed41a8",
   "metadata": {},
   "outputs": [
    {
     "name": "stdout",
     "output_type": "stream",
     "text": [
      "5\n",
      "['Apple', 'Ball', 'Cat', 'Dog', 'Fish']\n",
      "<class 'list'>\n"
     ]
    }
   ],
   "source": [
    "list\n",
    "a = [\"Apple\", \"Ball\", \"Cat\", \"Dog\", \"Fish\"]\n",
    "l = len(a)\n",
    "print(l)\n",
    "print(a)\n",
    "print(type(a))"
   ]
  },
  {
   "cell_type": "code",
   "execution_count": 3,
   "id": "2563a141",
   "metadata": {},
   "outputs": [
    {
     "name": "stdout",
     "output_type": "stream",
     "text": [
      "Apple\n"
     ]
    }
   ],
   "source": [
    "a = [\"Apple\", \"Ball\", \"Cat\", \"Dog\", \"Fish\"]\n",
    "print(a[0])"
   ]
  },
  {
   "cell_type": "code",
   "execution_count": 4,
   "id": "8dd42cee",
   "metadata": {},
   "outputs": [
    {
     "name": "stdout",
     "output_type": "stream",
     "text": [
      "Apple\n",
      "['Apple', 'Ball', 'Cat', 'Dog']\n",
      "['Apple', 'Cat']\n"
     ]
    }
   ],
   "source": [
    "a = [\"Apple\", \"Ball\", \"Cat\", \"Dog\", \"Fish\"]\n",
    "print(a[0])\n",
    "print(a[0:4])\n",
    "print(a[0:4:2])"
   ]
  },
  {
   "cell_type": "code",
   "execution_count": 5,
   "id": "a8550a6c",
   "metadata": {},
   "outputs": [
    {
     "name": "stdout",
     "output_type": "stream",
     "text": [
      "[1, 2, 3, 4, 5, 'Apple', 'Ball', 'Cat', 'Dog', 'Fish']\n"
     ]
    }
   ],
   "source": [
    "a = [\"Apple\", \"Ball\", \"Cat\", \"Dog\", \"Fish\"]\n",
    "b = [1,2,3,4,5]\n",
    "c = b+a\n",
    "print(c)"
   ]
  },
  {
   "cell_type": "code",
   "execution_count": 25,
   "id": "bf7ddb76",
   "metadata": {},
   "outputs": [
    {
     "name": "stdout",
     "output_type": "stream",
     "text": [
      "['Apple', 'Ball', 'Cat', 'Dog', 'Fish', 'Apple', 'Ball', 'Cat', 'Dog', 'Fish']\n"
     ]
    }
   ],
   "source": [
    "a = [\"Apple\", \"Ball\", \"Cat\", \"Dog\", \"Fish\"]\n",
    "print(a*2)"
   ]
  },
  {
   "cell_type": "code",
   "execution_count": 6,
   "id": "9222f6d4",
   "metadata": {},
   "outputs": [
    {
     "data": {
      "text/plain": [
       "12"
      ]
     },
     "execution_count": 6,
     "metadata": {},
     "output_type": "execute_result"
    }
   ],
   "source": [
    "a = [1,2,3,4,5, \"Apple\", \"Ball\", \"Cat\", \"Dog\", \"Fish\", 1, 2]\n",
    "l = len(a)\n",
    "l\n"
   ]
  },
  {
   "cell_type": "code",
   "execution_count": 7,
   "id": "bdbfa213",
   "metadata": {},
   "outputs": [
    {
     "data": {
      "text/plain": [
       "['Ant', 'Ball', 'Cat', 'Dog', 'Fish']"
      ]
     },
     "execution_count": 7,
     "metadata": {},
     "output_type": "execute_result"
    }
   ],
   "source": [
    "a = [\"Apple\", \"Ball\", \"Cat\", \"Dog\", \"Fish\"]\n",
    "a[0] = \"Ant\"\n",
    "a"
   ]
  },
  {
   "cell_type": "code",
   "execution_count": 8,
   "id": "42a893ae",
   "metadata": {},
   "outputs": [
    {
     "name": "stdout",
     "output_type": "stream",
     "text": [
      "enter value of n=3\n",
      "enter x=5\n",
      "enter x=4\n",
      "enter x=3\n",
      "[5, 4, 3]\n"
     ]
    }
   ],
   "source": [
    "l= list()\n",
    "n =int(input(\"enter value of n=\"))\n",
    "for i in range(n):\n",
    "    x= int (input(\"enter x=\"))\n",
    "    l.append(x)\n",
    "    \n",
    "print(l)\n",
    "    "
   ]
  },
  {
   "cell_type": "code",
   "execution_count": 9,
   "id": "e706f3dd",
   "metadata": {},
   "outputs": [],
   "source": [
    "#max min sum"
   ]
  },
  {
   "cell_type": "code",
   "execution_count": 11,
   "id": "c2b1a5a3",
   "metadata": {},
   "outputs": [
    {
     "name": "stdout",
     "output_type": "stream",
     "text": [
      "909\n",
      "12\n",
      "1075\n"
     ]
    }
   ],
   "source": [
    "a = [12, 76, 909, 78]\n",
    "print(max(a))\n",
    "print(min(a))\n",
    "print(sum(a))"
   ]
  },
  {
   "cell_type": "code",
   "execution_count": 13,
   "id": "7fd06a3e",
   "metadata": {},
   "outputs": [
    {
     "name": "stdout",
     "output_type": "stream",
     "text": [
      "909.57\n",
      "12.5\n"
     ]
    }
   ],
   "source": [
    "a = [12.5, 76.3, 909.57, 78]\n",
    "print(max(a))\n",
    "print(min(a))"
   ]
  },
  {
   "cell_type": "code",
   "execution_count": 14,
   "id": "17f8f54e",
   "metadata": {},
   "outputs": [
    {
     "name": "stdout",
     "output_type": "stream",
     "text": [
      "[12.5, 76.3, 78, 909.57]\n"
     ]
    }
   ],
   "source": [
    "a.sort()\n",
    "print(a)"
   ]
  },
  {
   "cell_type": "code",
   "execution_count": 17,
   "id": "2f79c782",
   "metadata": {},
   "outputs": [
    {
     "name": "stdout",
     "output_type": "stream",
     "text": [
      "['Geeta', 'Hari', 'Ram', 'Sita', 'apple']\n"
     ]
    }
   ],
   "source": [
    "a =[\"Ram\", \"Hari\", \"Sita\", \"Geeta\", \"apple\"]\n",
    "a.sort()\n",
    "print(a)"
   ]
  },
  {
   "cell_type": "code",
   "execution_count": 18,
   "id": "b9d4e038",
   "metadata": {},
   "outputs": [
    {
     "name": "stdout",
     "output_type": "stream",
     "text": [
      "Ram\n",
      "Hari\n",
      "Sita\n",
      "Geeta\n",
      "apple\n"
     ]
    }
   ],
   "source": [
    "a =[\"Ram\", \"Hari\", \"Sita\", \"Geeta\", \"apple\"]\n",
    "for i in(a):\n",
    "    print(i)"
   ]
  },
  {
   "cell_type": "code",
   "execution_count": 20,
   "id": "acf46973",
   "metadata": {},
   "outputs": [
    {
     "name": "stdout",
     "output_type": "stream",
     "text": [
      "yes\n",
      "1\n"
     ]
    }
   ],
   "source": [
    "a =[\"Ram\", \"Hari\", \"Sita\", \"Geeta\", \"apple\"]\n",
    "if \"apple\" in a:\n",
    "    print(\"yes\")\n",
    "    print(a.count(\"apple\"))"
   ]
  },
  {
   "cell_type": "code",
   "execution_count": 21,
   "id": "e3388651",
   "metadata": {},
   "outputs": [],
   "source": [
    "#append() insert() extend()"
   ]
  },
  {
   "cell_type": "code",
   "execution_count": 22,
   "id": "34b68474",
   "metadata": {},
   "outputs": [
    {
     "name": "stdout",
     "output_type": "stream",
     "text": [
      "['apple']\n"
     ]
    }
   ],
   "source": [
    "a = []\n",
    "a.append(\"apple\")\n",
    "print(a)"
   ]
  },
  {
   "cell_type": "code",
   "execution_count": 23,
   "id": "430c89b9",
   "metadata": {},
   "outputs": [
    {
     "name": "stdout",
     "output_type": "stream",
     "text": [
      "['Ram', 'Ant', 'Hari', 'Sita', 'Geeta', 'apple']\n"
     ]
    }
   ],
   "source": [
    "a =[\"Ram\", \"Hari\", \"Sita\", \"Geeta\", \"apple\"]\n",
    "a.insert(1,\"Ant\")\n",
    "print(a)\n"
   ]
  },
  {
   "cell_type": "code",
   "execution_count": 24,
   "id": "58040801",
   "metadata": {},
   "outputs": [
    {
     "name": "stdout",
     "output_type": "stream",
     "text": [
      "['Ram', 'Hari', 'Sita', 'Geeta', 'apple', 1, 2, 3, 4, 5]\n"
     ]
    }
   ],
   "source": [
    "a = [\"Ram\", \"Hari\", \"Sita\", \"Geeta\", \"apple\"]\n",
    "b = [1,2,3,4,5]\n",
    "a.extend(b)\n",
    "print(a)"
   ]
  },
  {
   "cell_type": "code",
   "execution_count": 26,
   "id": "1a7bef24",
   "metadata": {},
   "outputs": [
    {
     "data": {
      "text/plain": [
       "['Ram', 'Hari', 'Sita', 'Geeta']"
      ]
     },
     "execution_count": 26,
     "metadata": {},
     "output_type": "execute_result"
    }
   ],
   "source": [
    "# remove() del pop()\n",
    "a = a = [\"Ram\", \"Hari\", \"Sita\", \"Geeta\", \"apple\"]\n",
    "a.remove('apple')\n",
    "a"
   ]
  },
  {
   "cell_type": "code",
   "execution_count": 27,
   "id": "399177d6",
   "metadata": {},
   "outputs": [
    {
     "data": {
      "text/plain": [
       "['Hari', 'Sita', 'Geeta', 'apple']"
      ]
     },
     "execution_count": 27,
     "metadata": {},
     "output_type": "execute_result"
    }
   ],
   "source": [
    "a = a = [\"Ram\", \"Hari\", \"Sita\", \"Geeta\", \"apple\"]\n",
    "del a[0]\n",
    "a"
   ]
  },
  {
   "cell_type": "code",
   "execution_count": 31,
   "id": "7f449ef4",
   "metadata": {},
   "outputs": [
    {
     "data": {
      "text/plain": [
       "['Geeta', 'apple']"
      ]
     },
     "execution_count": 31,
     "metadata": {},
     "output_type": "execute_result"
    }
   ],
   "source": [
    "a = [\"Ram\", \"Hari\", \"Sita\", \"Geeta\", \"apple\"]\n",
    "del a[0:3]\n",
    "a"
   ]
  },
  {
   "cell_type": "code",
   "execution_count": 30,
   "id": "89bb1547",
   "metadata": {},
   "outputs": [
    {
     "data": {
      "text/plain": [
       "4"
      ]
     },
     "execution_count": 30,
     "metadata": {},
     "output_type": "execute_result"
    }
   ],
   "source": [
    "a = [\"Ram\", \"Hari\", \"Sita\", \"Geeta\", \"apple\"]\n",
    "a.index(\"apple\")"
   ]
  },
  {
   "cell_type": "code",
   "execution_count": 32,
   "id": "cb6b7cf8",
   "metadata": {},
   "outputs": [
    {
     "data": {
      "text/plain": [
       "['Ram', 'Hari', 'apple', 'Sita', 'Geeta', 'apple']"
      ]
     },
     "execution_count": 32,
     "metadata": {},
     "output_type": "execute_result"
    }
   ],
   "source": [
    "a = [\"Ram\",\"apple\", \"Hari\", \"apple\",\"Sita\", \"Geeta\", \"apple\"]\n",
    "a.remove(\"apple\")\n",
    "a\n"
   ]
  },
  {
   "cell_type": "code",
   "execution_count": 33,
   "id": "83f6d9f9",
   "metadata": {},
   "outputs": [
    {
     "data": {
      "text/plain": [
       "['Ram', 'Hari', 'Sita', 'Geeta']"
      ]
     },
     "execution_count": 33,
     "metadata": {},
     "output_type": "execute_result"
    }
   ],
   "source": [
    "a = [\"Ram\",\"apple\", \"Hari\", \"apple\",\"Sita\", \"Geeta\", \"apple\"]\n",
    "for i in a:\n",
    "    if i == \"apple\":\n",
    "        a.remove(\"apple\")     #2 ta apple sangai vayo vane hudaina\n",
    "a        "
   ]
  },
  {
   "cell_type": "code",
   "execution_count": 36,
   "id": "378d979f",
   "metadata": {},
   "outputs": [
    {
     "data": {
      "text/plain": [
       "['Ram', 'Hari', 'apple', 'Sita', 'Geeta', 'apple']"
      ]
     },
     "execution_count": 36,
     "metadata": {},
     "output_type": "execute_result"
    }
   ],
   "source": [
    "a = [\"Ram\",\"apple\",\"apple\", \"Hari\", \"apple\",\"Sita\", \"Geeta\", \"apple\"]\n",
    "l = a.count('apple')\n",
    "\n",
    "for i in range(l):\n",
    "    if a[i] == \"apple\":\n",
    "        a.remove(a[i])\n",
    "        \n",
    "a        "
   ]
  },
  {
   "cell_type": "code",
   "execution_count": 37,
   "id": "715c7844",
   "metadata": {},
   "outputs": [
    {
     "name": "stdout",
     "output_type": "stream",
     "text": [
      "['Ram', 'Hari', 'Sita', 'Geeta']\n"
     ]
    }
   ],
   "source": [
    "b= []\n",
    "a = [\"Ram\",\"apple\",\"apple\", \"Hari\", \"apple\",\"Sita\", \"Geeta\", \"apple\"]\n",
    "for i in a:\n",
    "    if i != \"apple\":\n",
    "        b.append(i)\n",
    "print(b)\n"
   ]
  },
  {
   "cell_type": "code",
   "execution_count": 1,
   "id": "5df5b02a",
   "metadata": {},
   "outputs": [],
   "source": [
    "#WAP to detect index of same value"
   ]
  },
  {
   "cell_type": "code",
   "execution_count": 2,
   "id": "62b9c65e",
   "metadata": {},
   "outputs": [
    {
     "name": "stdout",
     "output_type": "stream",
     "text": [
      "1\n",
      "2\n",
      "4\n",
      "7\n"
     ]
    }
   ],
   "source": [
    "a = [\"Ram\",\"apple\",\"apple\", \"Hari\", \"apple\",\"Sita\", \"Geeta\", \"apple\"]\n",
    "for i in range(len(a)):\n",
    "    if a[i] == 'apple':\n",
    "        print(i)"
   ]
  },
  {
   "cell_type": "code",
   "execution_count": 3,
   "id": "c0ed57f9",
   "metadata": {},
   "outputs": [
    {
     "name": "stdout",
     "output_type": "stream",
     "text": [
      "3\n"
     ]
    }
   ],
   "source": [
    "#list inside list\n",
    "a = [[1,2,3,],\n",
    "     [4,5,6],\n",
    "     [7,8,9]]\n",
    "print(len(a))"
   ]
  },
  {
   "cell_type": "code",
   "execution_count": 4,
   "id": "b8fa3765",
   "metadata": {},
   "outputs": [
    {
     "name": "stdout",
     "output_type": "stream",
     "text": [
      "[7, 8, 9]\n"
     ]
    }
   ],
   "source": [
    "print(a[2])"
   ]
  },
  {
   "cell_type": "code",
   "execution_count": 5,
   "id": "7136dfcb",
   "metadata": {},
   "outputs": [
    {
     "data": {
      "text/plain": [
       "[['Ram', 34, 'Kathmandu'],\n",
       " ['Shyam', 23, 'Lalitpur'],\n",
       " ['Hari', 54, 'Bhaktapur']]"
      ]
     },
     "execution_count": 5,
     "metadata": {},
     "output_type": "execute_result"
    }
   ],
   "source": [
    "a = [[\"Ram\", 34, \"Kathmandu\"],\n",
    "     [\"Shyam\", 23,\"Lalitpur\"],\n",
    "     [\"Hari\", 54, \"Bhaktapur\"]]\n",
    "a"
   ]
  },
  {
   "cell_type": "code",
   "execution_count": 6,
   "id": "da916944",
   "metadata": {},
   "outputs": [
    {
     "data": {
      "text/plain": [
       "34"
      ]
     },
     "execution_count": 6,
     "metadata": {},
     "output_type": "execute_result"
    }
   ],
   "source": [
    "a[0][1]"
   ]
  },
  {
   "cell_type": "code",
   "execution_count": 8,
   "id": "59b3360a",
   "metadata": {},
   "outputs": [
    {
     "name": "stdout",
     "output_type": "stream",
     "text": [
      "Enter name =Ram\n",
      "['Ram', 34, 'Kathmandu']\n"
     ]
    }
   ],
   "source": [
    "name = input(\"Enter name =\")\n",
    "for i in a:\n",
    "    if name in i:\n",
    "        print(i)"
   ]
  },
  {
   "cell_type": "code",
   "execution_count": 10,
   "id": "9c969924",
   "metadata": {},
   "outputs": [
    {
     "name": "stdout",
     "output_type": "stream",
     "text": [
      "Enter n= 2\n",
      "enter name =Ram\n",
      "enter age =22\n",
      "enter address= Patan\n",
      "enter name =Shyam\n",
      "enter age =23\n",
      "enter address= Bhaktapur\n",
      "[['Ram', 22, 'Patan'], ['Shyam', 23, 'Bhaktapur']]\n"
     ]
    }
   ],
   "source": [
    "info =[]\n",
    "n = int(input(\"Enter n= \"))\n",
    "for i in range(n):\n",
    "    name= input(\"enter name =\")\n",
    "    age = int(input('enter age ='))\n",
    "    add= input(\"enter address= \")\n",
    "    data= [name, age, add]\n",
    "    info.append(data)\n",
    "    \n",
    "print(info)\n",
    "\n"
   ]
  },
  {
   "cell_type": "code",
   "execution_count": 11,
   "id": "1959f8c3",
   "metadata": {},
   "outputs": [
    {
     "data": {
      "text/plain": [
       "[['Shyam', 23, 'Lalitpur'], ['Hari', 54, 'Bhaktapur']]"
      ]
     },
     "execution_count": 11,
     "metadata": {},
     "output_type": "execute_result"
    }
   ],
   "source": [
    "a = [[\"Ram\", 34, \"Kathmandu\"],[\"Shyam\", 23,\"Lalitpur\"],[\"Hari\", 54, \"Bhaktapur\"]]\n",
    "del a[0]\n",
    "a"
   ]
  },
  {
   "cell_type": "code",
   "execution_count": 12,
   "id": "c75ba187",
   "metadata": {},
   "outputs": [
    {
     "data": {
      "text/plain": [
       "[['Ram Prasad', 34, 'Kathmandu'],\n",
       " ['Shyam', 23, 'Lalitpur'],\n",
       " ['Hari', 54, 'Bhaktapur']]"
      ]
     },
     "execution_count": 12,
     "metadata": {},
     "output_type": "execute_result"
    }
   ],
   "source": [
    "a = [[\"Ram\", 34, \"Kathmandu\"],[\"Shyam\", 23,\"Lalitpur\"],[\"Hari\", 54, \"Bhaktapur\"]]\n",
    "a[0][0] =\"Ram Prasad\"\n",
    "a"
   ]
  },
  {
   "cell_type": "code",
   "execution_count": 13,
   "id": "759744ca",
   "metadata": {},
   "outputs": [
    {
     "data": {
      "text/plain": [
       "[['Shyam', 23, 'Lalitpur'], ['Hari', 54, 'Bhaktapur'], ['Ram, 23, KTM']]"
      ]
     },
     "execution_count": 13,
     "metadata": {},
     "output_type": "execute_result"
    }
   ],
   "source": [
    "a = [[\"Shyam\", 23,\"Lalitpur\"],[\"Hari\", 54, \"Bhaktapur\"]]\n",
    "a.append([\"Ram, 23, KTM\"])\n",
    "a"
   ]
  },
  {
   "cell_type": "code",
   "execution_count": 14,
   "id": "65b8565e",
   "metadata": {},
   "outputs": [
    {
     "name": "stdout",
     "output_type": "stream",
     "text": [
      "Enter name =Ram\n"
     ]
    },
    {
     "data": {
      "text/plain": [
       "[['Shyam', 23, 'Lalitpur'], ['Hari', 54, 'Bhaktapur']]"
      ]
     },
     "execution_count": 14,
     "metadata": {},
     "output_type": "execute_result"
    }
   ],
   "source": [
    "a = [[\"Shyam\", 23,\"Lalitpur\"],[\"Hari\", 54, \"Bhaktapur\"]]\n",
    "\n",
    "name = input(\"Enter name =\")\n",
    "for i in a:\n",
    "    if name in i:\n",
    "        a.remove(i)\n",
    "a"
   ]
  },
  {
   "cell_type": "code",
   "execution_count": null,
   "id": "36e8a16c",
   "metadata": {},
   "outputs": [],
   "source": [
    "# WAP to create a matrix by taking row and column\n"
   ]
  }
 ],
 "metadata": {
  "kernelspec": {
   "display_name": "Python 3 (ipykernel)",
   "language": "python",
   "name": "python3"
  },
  "language_info": {
   "codemirror_mode": {
    "name": "ipython",
    "version": 3
   },
   "file_extension": ".py",
   "mimetype": "text/x-python",
   "name": "python",
   "nbconvert_exporter": "python",
   "pygments_lexer": "ipython3",
   "version": "3.9.7"
  }
 },
 "nbformat": 4,
 "nbformat_minor": 5
}
