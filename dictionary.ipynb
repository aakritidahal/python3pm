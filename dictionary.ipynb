{
 "cells": [
  {
   "cell_type": "code",
   "execution_count": 1,
   "id": "b888e3db",
   "metadata": {},
   "outputs": [],
   "source": [
    "# Dictionary\n",
    "# Indexed\n",
    "# ordered\n",
    "# Multiple data\n",
    "# Mutable\n"
   ]
  },
  {
   "cell_type": "code",
   "execution_count": 3,
   "id": "5c70b093",
   "metadata": {},
   "outputs": [
    {
     "name": "stdout",
     "output_type": "stream",
     "text": [
      "{'a': 'apple', 'b': 'ball', 'c': 'cat'}\n",
      "<class 'dict'>\n"
     ]
    }
   ],
   "source": [
    "# a = {<key>:<value>,<key>:<value>}\n",
    "a = {\"a\":\"apple\", \"b\":\"ball\",\"c\":\"cat\"}\n",
    "print(a)\n",
    "print(type(a))"
   ]
  },
  {
   "cell_type": "code",
   "execution_count": 4,
   "id": "92410f6c",
   "metadata": {},
   "outputs": [
    {
     "data": {
      "text/plain": [
       "'apple'"
      ]
     },
     "execution_count": 4,
     "metadata": {},
     "output_type": "execute_result"
    }
   ],
   "source": [
    "a[\"a\"]"
   ]
  },
  {
   "cell_type": "code",
   "execution_count": 6,
   "id": "bddb8ef6",
   "metadata": {},
   "outputs": [
    {
     "name": "stdout",
     "output_type": "stream",
     "text": [
      "ball\n"
     ]
    }
   ],
   "source": [
    "print(a[\"b\"])"
   ]
  },
  {
   "cell_type": "code",
   "execution_count": 7,
   "id": "da3abd30",
   "metadata": {},
   "outputs": [
    {
     "name": "stdout",
     "output_type": "stream",
     "text": [
      "3\n"
     ]
    }
   ],
   "source": [
    "print(len(a))"
   ]
  },
  {
   "cell_type": "code",
   "execution_count": 10,
   "id": "2caae1d0",
   "metadata": {},
   "outputs": [
    {
     "name": "stdout",
     "output_type": "stream",
     "text": [
      "{'a': 'apple', 'b': 'ball', 'c': 'cat', 'd': 'dog'}\n"
     ]
    }
   ],
   "source": [
    "a = {\"a\":\"apple\", \"b\":\"ball\",\"c\":\"cat\"}\n",
    "a['d'] = \"dog\"\n",
    "print(a)"
   ]
  },
  {
   "cell_type": "code",
   "execution_count": 11,
   "id": "586cd2e5",
   "metadata": {},
   "outputs": [
    {
     "data": {
      "text/plain": [
       "{'a': 'apple', 'b': 'ball', 'c': 'cat'}"
      ]
     },
     "execution_count": 11,
     "metadata": {},
     "output_type": "execute_result"
    }
   ],
   "source": [
    "a ={}\n",
    "a['a'] = \"apple\"\n",
    "a['b'] = \"ball\"\n",
    "a['c'] = \"cat\"\n",
    "a"
   ]
  },
  {
   "cell_type": "code",
   "execution_count": 14,
   "id": "0344269e",
   "metadata": {},
   "outputs": [
    {
     "name": "stdout",
     "output_type": "stream",
     "text": [
      "enter n=2\n",
      "enter name=ram\n",
      "enter phone=125\n",
      "enter name=shyam\n",
      "enter phone=159\n",
      "{'ram': 125, 'shyam': 159}\n"
     ]
    }
   ],
   "source": [
    "data = {}\n",
    "n = int(input('enter n='))\n",
    "for i in range(n):\n",
    "    name = input(\"enter name=\")\n",
    "    phone = int(input(\"enter phone=\"))\n",
    "    data[name] = phone\n",
    "    \n",
    "print(data)"
   ]
  },
  {
   "cell_type": "code",
   "execution_count": 15,
   "id": "aa9d89a5",
   "metadata": {},
   "outputs": [
    {
     "name": "stdout",
     "output_type": "stream",
     "text": [
      "ram\n",
      "Shyam\n"
     ]
    }
   ],
   "source": [
    "a = {'ram': 98654789, 'Shyam':98635241}\n",
    "for i in a:\n",
    "    print(i)"
   ]
  },
  {
   "cell_type": "code",
   "execution_count": 16,
   "id": "e75b2d70",
   "metadata": {},
   "outputs": [
    {
     "name": "stdout",
     "output_type": "stream",
     "text": [
      "98654789\n",
      "98635241\n"
     ]
    }
   ],
   "source": [
    "a = {'ram': 98654789, 'Shyam':98635241}\n",
    "for i in a.values():\n",
    "    print(i)"
   ]
  },
  {
   "cell_type": "code",
   "execution_count": 17,
   "id": "2d116b04",
   "metadata": {},
   "outputs": [
    {
     "name": "stdout",
     "output_type": "stream",
     "text": [
      "('ram', 98654789)\n",
      "('Shyam', 98635241)\n"
     ]
    }
   ],
   "source": [
    "a = {'ram': 98654789, 'Shyam':98635241}\n",
    "for i in a.items():\n",
    "    print(i)"
   ]
  },
  {
   "cell_type": "code",
   "execution_count": 19,
   "id": "25610795",
   "metadata": {},
   "outputs": [
    {
     "name": "stdout",
     "output_type": "stream",
     "text": [
      "{'Shyam': 98635241}\n"
     ]
    }
   ],
   "source": [
    "a = {'ram': 98654789, 'Shyam':98635241}\n",
    "del a[\"ram\"]\n",
    "\n",
    "print(a)"
   ]
  },
  {
   "cell_type": "code",
   "execution_count": 20,
   "id": "fe65af14",
   "metadata": {},
   "outputs": [
    {
     "data": {
      "text/plain": [
       "{'Shyam': 98635241}"
      ]
     },
     "execution_count": 20,
     "metadata": {},
     "output_type": "execute_result"
    }
   ],
   "source": [
    "a = {'ram': 98654789, 'Shyam':98635241}\n",
    "a.pop('ram')\n",
    "print(a)\n"
   ]
  },
  {
   "cell_type": "code",
   "execution_count": 22,
   "id": "966b0518",
   "metadata": {},
   "outputs": [
    {
     "name": "stdout",
     "output_type": "stream",
     "text": [
      "{'Shyam': 98635241}\n",
      "98654789\n"
     ]
    }
   ],
   "source": [
    "a = {'ram': 98654789, 'Shyam':98635241}\n",
    "b =a.pop('ram')\n",
    "print(a)\n",
    "print(b)"
   ]
  },
  {
   "cell_type": "code",
   "execution_count": 1,
   "id": "758e9afe",
   "metadata": {},
   "outputs": [
    {
     "name": "stdout",
     "output_type": "stream",
     "text": [
      "enter n=2\n",
      "enter name =Ram\n",
      "enter ntc phone=98563214\n",
      "enter ncell phone=98023654\n",
      "enter name =Shyam\n",
      "enter ntc phone=985647123\n",
      "enter ncell phone=9806352147\n",
      "{'Ram': [98563214, 98023654], 'Shyam': [985647123, 9806352147]}\n"
     ]
    }
   ],
   "source": [
    "# # list inside dictionaries\n",
    "# a = {'ram': [98654789,985632147], 'Shyam':[98635241,987563214]} #list for multiple values\n",
    "\n",
    "info={}\n",
    "n = int(input('enter n='))\n",
    "for i in range (n):\n",
    "    name =input('enter name =')\n",
    "    ntc_phone= int(input('enter ntc phone='))\n",
    "    ncell_phone= int(input('enter ncell phone='))\n",
    "    info[name]= [ntc_phone,ncell_phone]\n",
    "print(info)"
   ]
  },
  {
   "cell_type": "code",
   "execution_count": 3,
   "id": "5d87436a",
   "metadata": {},
   "outputs": [
    {
     "data": {
      "text/plain": [
       "98563214"
      ]
     },
     "execution_count": 3,
     "metadata": {},
     "output_type": "execute_result"
    }
   ],
   "source": [
    "a= {'Ram': [98563214, 98023654], 'Shyam': [985647123, 9806352147]}\n",
    "a['Ram'][0]"
   ]
  },
  {
   "cell_type": "code",
   "execution_count": 4,
   "id": "9bc8b822",
   "metadata": {},
   "outputs": [
    {
     "data": {
      "text/plain": [
       "{'Ram': [98563214, 98023654, 985632478], 'Shyam': [985647123, 9806352147]}"
      ]
     },
     "execution_count": 4,
     "metadata": {},
     "output_type": "execute_result"
    }
   ],
   "source": [
    "a= {'Ram': [98563214, 98023654], 'Shyam': [985647123, 9806352147]}\n",
    "a['Ram'].append(985632478)\n",
    "a"
   ]
  },
  {
   "cell_type": "code",
   "execution_count": 5,
   "id": "f538030d",
   "metadata": {},
   "outputs": [
    {
     "data": {
      "text/plain": [
       "{'Ram': [98563214, 98023654, 985632478],\n",
       " 'Shyam': [985647123, 9806352147],\n",
       " 'Hari': [9854789321, 978564123]}"
      ]
     },
     "execution_count": 5,
     "metadata": {},
     "output_type": "execute_result"
    }
   ],
   "source": [
    "a[\"Hari\"] = [9854789321,978564123]\n",
    "a"
   ]
  },
  {
   "cell_type": "code",
   "execution_count": 7,
   "id": "a3652c81",
   "metadata": {},
   "outputs": [
    {
     "data": {
      "text/plain": [
       "{'name': ['Ram', 'Shyam'],\n",
       " 'NTC': [9845631, 985248],\n",
       " 'Ncell': [98023654, 985214789]}"
      ]
     },
     "execution_count": 7,
     "metadata": {},
     "output_type": "execute_result"
    }
   ],
   "source": [
    "a= {'name':[\"Ram\",\"Shyam\"],\n",
    "    \"NTC\":[9845631,985248],\n",
    "   \"Ncell\":[98023654,985214789]}\n",
    "a\n"
   ]
  },
  {
   "cell_type": "code",
   "execution_count": 8,
   "id": "b3506301",
   "metadata": {},
   "outputs": [
    {
     "name": "stdout",
     "output_type": "stream",
     "text": [
      "enter n=2\n",
      "enter name =Ram\n",
      "enter ntc phone=98657453211\n",
      "enter ncell phone=980665474\n",
      "enter name =Shyam\n",
      "enter ntc phone=986554444\n",
      "enter ncell phone=9802365417\n",
      "{'Name': ['Ram', 'Shyam'], 'NTC': [98657453211, 986554444], 'NCELL': [980665474, 9802365417]}\n"
     ]
    }
   ],
   "source": [
    "info={'Name':[],\"NTC\":[], \"NCELL\":[]}\n",
    "n = int(input('enter n='))\n",
    "for i in range (n):\n",
    "    name =input('enter name =')\n",
    "    ntc_phone= int(input('enter ntc phone='))\n",
    "    ncell_phone= int(input('enter ncell phone='))\n",
    "    info[\"Name\"].append(name)\n",
    "    info[\"NTC\"].append(ntc_phone)\n",
    "    info[\"NCELL\"].append(ncell_phone)\n",
    "    \n",
    "print(info)"
   ]
  },
  {
   "cell_type": "code",
   "execution_count": 10,
   "id": "73c2bb1c",
   "metadata": {},
   "outputs": [
    {
     "data": {
      "text/plain": [
       "{'Name': 'Ram', 'Age': 34, 'Add': 'Kathmandu'}"
      ]
     },
     "execution_count": 10,
     "metadata": {},
     "output_type": "execute_result"
    }
   ],
   "source": [
    "info = [{\"Name\":\"Ram\", \"Age\":34, \"Add\":\"Kathmandu\"},\n",
    "       {\"Name\":\"SHyam\", \"Age\":34, \"Add\":\"Bhaktapur\"},\n",
    "       {\"Name\":\"Hari\", \"Age\":36, \"Add\":\"Patan\"},\n",
    "       {\"Name\":\"Sita\", \"Age\":39, \"Add\":\"Bara\"}]\n",
    "\n",
    "info[0]"
   ]
  },
  {
   "cell_type": "code",
   "execution_count": 11,
   "id": "feb87d9e",
   "metadata": {},
   "outputs": [
    {
     "data": {
      "text/plain": [
       "'Ram'"
      ]
     },
     "execution_count": 11,
     "metadata": {},
     "output_type": "execute_result"
    }
   ],
   "source": [
    "info[0]['Name']"
   ]
  },
  {
   "cell_type": "code",
   "execution_count": 12,
   "id": "c21b9f7e",
   "metadata": {},
   "outputs": [
    {
     "data": {
      "text/plain": [
       "[{'Name': 'Ram prasad', 'Age': 34, 'Add': 'Kathmandu'},\n",
       " {'Name': 'SHyam', 'Age': 34, 'Add': 'Bhaktapur'},\n",
       " {'Name': 'Hari', 'Age': 36, 'Add': 'Patan'},\n",
       " {'Name': 'Sita', 'Age': 39, 'Add': 'Bara'}]"
      ]
     },
     "execution_count": 12,
     "metadata": {},
     "output_type": "execute_result"
    }
   ],
   "source": [
    "info[0]['Name']= \"Ram prasad\"\n",
    "info"
   ]
  },
  {
   "cell_type": "code",
   "execution_count": 14,
   "id": "2c2ba7b5",
   "metadata": {},
   "outputs": [
    {
     "name": "stdout",
     "output_type": "stream",
     "text": [
      "enter n=2\n",
      "enter name=Ram\n",
      "enter age=25\n",
      "enter address=KTM\n",
      "enter name=SHyam\n",
      "enter age=26\n",
      "enter address=patan\n",
      "[{'Name': 'Ram', 'Age': 25, 'Add': 'KTM'}, {'Name': 'SHyam', 'Age': 26, 'Add': 'patan'}]\n"
     ]
    }
   ],
   "source": [
    "info = []\n",
    "n = int(input('enter n='))\n",
    "for i in range (n):\n",
    "    name = input('enter name=')\n",
    "    age = int(input('enter age='))\n",
    "    add = input('enter address=')\n",
    "    data ={\"Name\":name, \"Age\":age, \"Add\":add}\n",
    "    info.append(data)\n",
    "print(info)"
   ]
  },
  {
   "cell_type": "code",
   "execution_count": 16,
   "id": "381bd158",
   "metadata": {},
   "outputs": [
    {
     "name": "stdout",
     "output_type": "stream",
     "text": [
      "enter product name=coke\n",
      "enter quantity=2\n",
      "200\n"
     ]
    }
   ],
   "source": [
    "data = {'coke':100,'pizza':850}\n",
    "\n",
    "product = input(\"enter product name=\")\n",
    "price= data[product]\n",
    "quantity = int(input(\"enter quantity=\"))\n",
    "\n",
    "total = price*quantity\n",
    "print(total)"
   ]
  },
  {
   "cell_type": "code",
   "execution_count": 2,
   "id": "cad7ef0f",
   "metadata": {},
   "outputs": [
    {
     "name": "stdout",
     "output_type": "stream",
     "text": [
      "{1: {'Name': 'Ram', 'Age': 34, 'Add': 'Kathmandu'}, 2: {'Name': 'SHyam', 'Age': 34, 'Add': 'Bhaktapur'}, 3: {'Name': 'Hari', 'Age': 36, 'Add': 'Patan'}, 4: {'Name': 'Sita', 'Age': 39, 'Add': 'Bara'}}\n"
     ]
    }
   ],
   "source": [
    "# dictionary inside dictionary\n",
    "a= {1:{\"Name\":\"Ram\", \"Age\":34, \"Add\":\"Kathmandu\"},\n",
    "   2:{\"Name\":\"SHyam\", \"Age\":34, \"Add\":\"Bhaktapur\"},\n",
    "   3:{\"Name\":\"Hari\", \"Age\":36, \"Add\":\"Patan\"},\n",
    "   4:{\"Name\":\"Sita\", \"Age\":39, \"Add\":\"Bara\"}}\n",
    "print(a)"
   ]
  },
  {
   "cell_type": "code",
   "execution_count": 3,
   "id": "671b53d3",
   "metadata": {},
   "outputs": [
    {
     "name": "stdout",
     "output_type": "stream",
     "text": [
      "{'Name': 'SHyam', 'Age': 34, 'Add': 'Bhaktapur'}\n"
     ]
    }
   ],
   "source": [
    "print(a[2])"
   ]
  },
  {
   "cell_type": "code",
   "execution_count": 4,
   "id": "fa1d87d8",
   "metadata": {},
   "outputs": [
    {
     "data": {
      "text/plain": [
       "{1: {'Name': 'Ram', 'Age': 34, 'Add': 'Kathmandu'},\n",
       " 2: {'Name': 'SHyam', 'Age': 34, 'Add': 'Bhaktapur'},\n",
       " 3: {'Name': 'Hari', 'Age': 36, 'Add': 'Patan'},\n",
       " 4: {'Name': 'Sita', 'Age': 39, 'Add': 'Bara'},\n",
       " 437474: {'Name': 'Gita', 'Age': 25, 'Add': 'Lalitpur'}}"
      ]
     },
     "execution_count": 4,
     "metadata": {},
     "output_type": "execute_result"
    }
   ],
   "source": [
    "a [437474] = {'Name': 'Gita', \"Age\":25, \"Add\": \"Lalitpur\"}\n",
    "a"
   ]
  },
  {
   "cell_type": "code",
   "execution_count": 1,
   "id": "ab19d91a",
   "metadata": {},
   "outputs": [],
   "source": [
    "# WAP to create dictionary inside dictionary"
   ]
  },
  {
   "cell_type": "code",
   "execution_count": null,
   "id": "7785401e",
   "metadata": {},
   "outputs": [],
   "source": [
    "info = {}\n",
    "n = int(input('enter n='))\n",
    "for i in range (n):\n",
    "    name = input('enter name=')\n",
    "    age = int(input('enter age='))\n",
    "    add = input('enter address=')\n",
    "    info = {\"Name\":name, \"Age\":age, \"Add\":add}\n",
    "    \n",
    "print(info)"
   ]
  },
  {
   "cell_type": "code",
   "execution_count": 5,
   "id": "2c7c861e",
   "metadata": {},
   "outputs": [
    {
     "name": "stdout",
     "output_type": "stream",
     "text": [
      "enter n=2\n",
      "enter name=ram\n",
      "enter age=34\n",
      "enter address=ktm\n",
      "enter name=sam\n",
      "enter age=34\n",
      "enter address=brt\n",
      "{'Name': 'sam', 'Age': 34, 'Add': 'brt'}\n"
     ]
    }
   ],
   "source": [
    "info = {}\n",
    "n = int(input('enter n='))\n",
    "for i in range (n):\n",
    "    name = input('enter name=')\n",
    "    age = int(input('enter age='))\n",
    "    add = input('enter address=')\n",
    "    info ={\"Name\":name, \"Age\":age, \"Add\":add}\n",
    "   \n",
    "    \n",
    "print(info)"
   ]
  },
  {
   "cell_type": "code",
   "execution_count": null,
   "id": "42914234",
   "metadata": {},
   "outputs": [],
   "source": []
  }
 ],
 "metadata": {
  "kernelspec": {
   "display_name": "Python 3 (ipykernel)",
   "language": "python",
   "name": "python3"
  },
  "language_info": {
   "codemirror_mode": {
    "name": "ipython",
    "version": 3
   },
   "file_extension": ".py",
   "mimetype": "text/x-python",
   "name": "python",
   "nbconvert_exporter": "python",
   "pygments_lexer": "ipython3",
   "version": "3.9.7"
  }
 },
 "nbformat": 4,
 "nbformat_minor": 5
}
