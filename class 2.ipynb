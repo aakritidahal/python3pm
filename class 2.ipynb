{
 "cells": [
  {
   "cell_type": "code",
   "execution_count": 15,
   "id": "b8eb4da9",
   "metadata": {},
   "outputs": [
    {
     "name": "stdout",
     "output_type": "stream",
     "text": [
      "Enter a = 50\n",
      "Enter b = 40\n",
      "Enter + - * / =+\n",
      "90\n"
     ]
    }
   ],
   "source": [
    "a =int(input(\"Enter a = \"))\n",
    "b =int(input(\"Enter b = \"))\n",
    "o =input(\"Enter + - * / =\")\n",
    "       \n",
    "if o ==\"+\":\n",
    "       print(a+b)\n",
    "elif o==\"-\":\n",
    "       print(a+b)\n",
    "elif o==\"*\":\n",
    "       print(a+b)\n",
    "elif o==\"/\":\n",
    "       print(a+b)\n",
    "else:\n",
    "    print(\"Invalid Operator\")\n",
    "       "
   ]
  },
  {
   "cell_type": "code",
   "execution_count": 7,
   "id": "03b1e9e1",
   "metadata": {},
   "outputs": [
    {
     "name": "stdout",
     "output_type": "stream",
     "text": [
      "False\n",
      "True\n"
     ]
    }
   ],
   "source": [
    "# and &\n",
    "print(True and False)\n",
    "\n",
    "# or /\n",
    "print (True or Flase)\n"
   ]
  },
  {
   "cell_type": "code",
   "execution_count": 3,
   "id": "38f5046c",
   "metadata": {},
   "outputs": [
    {
     "name": "stdout",
     "output_type": "stream",
     "text": [
      "Enter a = 5\n",
      "Enter b = 0\n",
      "Enter + - * / /\n",
      "Invalid Operator\n"
     ]
    }
   ],
   "source": [
    "a =int(input(\"Enter a = \"))\n",
    "b =int(input(\"Enter b = \"))\n",
    "o =input(\"Enter + - * / \" )\n",
    "       \n",
    "if o ==\"+\":\n",
    "       print(a+b)\n",
    "elif o==\"-\":\n",
    "       print(a-b)\n",
    "elif o==\"*\":\n",
    "       print(a*b)\n",
    "elif o==\"/\" and b!=0:\n",
    "       print(a/b)\n",
    "else:\n",
    "    print(\"Invalid Operator\")"
   ]
  },
  {
   "cell_type": "code",
   "execution_count": 8,
   "id": "2a13aefa",
   "metadata": {},
   "outputs": [
    {
     "name": "stdout",
     "output_type": "stream",
     "text": [
      "Enter x = 2\n",
      "Enter y = -3\n",
      "Enter + - * / /\n"
     ]
    },
    {
     "ename": "ZeroDivisionError",
     "evalue": "division by zero",
     "output_type": "error",
     "traceback": [
      "\u001b[1;31m---------------------------------------------------------------------------\u001b[0m",
      "\u001b[1;31mZeroDivisionError\u001b[0m                         Traceback (most recent call last)",
      "\u001b[1;32m~\\AppData\\Local\\Temp/ipykernel_16976/20510328.py\u001b[0m in \u001b[0;36m<module>\u001b[1;34m\u001b[0m\n\u001b[0;32m     10\u001b[0m        \u001b[0mprint\u001b[0m\u001b[1;33m(\u001b[0m\u001b[0ma\u001b[0m\u001b[1;33m*\u001b[0m\u001b[0mb\u001b[0m\u001b[1;33m)\u001b[0m\u001b[1;33m\u001b[0m\u001b[1;33m\u001b[0m\u001b[0m\n\u001b[0;32m     11\u001b[0m \u001b[1;32melif\u001b[0m \u001b[0mo\u001b[0m\u001b[1;33m==\u001b[0m\u001b[1;34m\"/\"\u001b[0m \u001b[1;32mand\u001b[0m \u001b[0mb\u001b[0m\u001b[1;33m==\u001b[0m\u001b[1;36m0\u001b[0m\u001b[1;33m:\u001b[0m\u001b[1;33m\u001b[0m\u001b[1;33m\u001b[0m\u001b[0m\n\u001b[1;32m---> 12\u001b[1;33m        \u001b[0mprint\u001b[0m\u001b[1;33m(\u001b[0m\u001b[0ma\u001b[0m\u001b[1;33m/\u001b[0m\u001b[0mb\u001b[0m\u001b[1;33m)\u001b[0m\u001b[1;33m\u001b[0m\u001b[1;33m\u001b[0m\u001b[0m\n\u001b[0m\u001b[0;32m     13\u001b[0m \u001b[1;32melse\u001b[0m\u001b[1;33m:\u001b[0m\u001b[1;33m\u001b[0m\u001b[1;33m\u001b[0m\u001b[0m\n\u001b[0;32m     14\u001b[0m     \u001b[0mprint\u001b[0m\u001b[1;33m(\u001b[0m\u001b[1;34m\"Invalid Operator\"\u001b[0m\u001b[1;33m)\u001b[0m\u001b[1;33m\u001b[0m\u001b[1;33m\u001b[0m\u001b[0m\n",
      "\u001b[1;31mZeroDivisionError\u001b[0m: division by zero"
     ]
    }
   ],
   "source": [
    "x =int(input(\"Enter x = \"))\n",
    "y =int(input(\"Enter y = \"))\n",
    "o =input(\"Enter + - * / \")\n",
    "       \n",
    "if o==\"+\":\n",
    "       print(a+b)\n",
    "elif o==\"-\":\n",
    "       print(a-b)\n",
    "elif o==\"*\":\n",
    "       print(a*b)\n",
    "elif o==\"/\" and b==0:\n",
    "       print(a/b)\n",
    "else:\n",
    "    print(\"Invalid Operator\")\n",
    "       "
   ]
  },
  {
   "cell_type": "code",
   "execution_count": 16,
   "id": "bda92d86",
   "metadata": {},
   "outputs": [
    {
     "name": "stdout",
     "output_type": "stream",
     "text": [
      "Enter a = 10\n",
      "Enter b = 20\n",
      "Enter + - * / /\n",
      "0.5\n"
     ]
    }
   ],
   "source": [
    "a =int(input(\"Enter a = \"))\n",
    "b =int(input(\"Enter b = \"))\n",
    "o =input(\"Enter + - * / \")\n",
    "       \n",
    "if o ==\"+\":\n",
    "    print(a+b)\n",
    "elif o ==\"-\":\n",
    "    print(a-b)\n",
    "elif o ==\"*\":\n",
    "    print(a*b)\n",
    "elif (o ==\"/\") & (b !=0):\n",
    "    print(a/b)\n",
    "elif (o == \"/\") & (b == 0):\n",
    "    print(\"The value of b cannot be zero.\")    \n",
    "else:\n",
    "    print(\"Invalid Operator\")"
   ]
  },
  {
   "cell_type": "code",
   "execution_count": 17,
   "id": "1d0a5f6b",
   "metadata": {},
   "outputs": [
    {
     "name": "stdout",
     "output_type": "stream",
     "text": [
      "Enter per=6.5\n"
     ]
    }
   ],
   "source": [
    "per = float(input(\"Enter per=\"))\n",
    "if (per > 60) or (per== 60):\n",
    "    print(\"the grade is B\")"
   ]
  },
  {
   "cell_type": "code",
   "execution_count": 23,
   "id": "10440d45",
   "metadata": {},
   "outputs": [],
   "source": [
    "# # nested if\n",
    "# if <condition>:\n",
    "#     if<condition>:\n",
    "#         <operation>\n",
    "#         elif <condition>:\n",
    "#             <operation>\n",
    "#         else:\n",
    "#             <operations>"
   ]
  },
  {
   "cell_type": "code",
   "execution_count": 18,
   "id": "d1ebd921",
   "metadata": {},
   "outputs": [
    {
     "name": "stdout",
     "output_type": "stream",
     "text": [
      "Enter x= 24\n",
      "The number is positive and even\n"
     ]
    }
   ],
   "source": [
    "x = int(input(\"Enter x= \"))\n",
    "if x>0:\n",
    "    if x %2 == 0:\n",
    "        print(\"The number is positive and even\")\n",
    "    else:\n",
    "        print(\"The number is negative and odd\")\n",
    "        \n",
    "else:\n",
    "    print(\"The number is negative\")"
   ]
  },
  {
   "cell_type": "code",
   "execution_count": 4,
   "id": "1e4bbfc4",
   "metadata": {},
   "outputs": [
    {
     "name": "stdout",
     "output_type": "stream",
     "text": [
      "Enter x= -2\n",
      "The number is negative\n"
     ]
    }
   ],
   "source": [
    "x = int(input(\"Enter x= \"))\n",
    "if x>0:\n",
    "    if x %2 == 0:\n",
    "        print(\"The number is positive and even\")\n",
    "    else:\n",
    "        print(\"The number is negative and odd\")\n",
    "        \n",
    "else:\n",
    "    print(\"The number is negative\")"
   ]
  },
  {
   "cell_type": "code",
   "execution_count": 20,
   "id": "db584cee",
   "metadata": {},
   "outputs": [
    {
     "name": "stdout",
     "output_type": "stream",
     "text": [
      "Enter a = 50\n",
      "Enter b = -5\n",
      "Enter + - * / =/\n",
      "-10.0\n"
     ]
    }
   ],
   "source": [
    "a =int(input(\"Enter a = \"))\n",
    "b =int(input(\"Enter b = \"))\n",
    "o =input(\"Enter + - * / =\")\n",
    "       \n",
    "if o ==\"+\":\n",
    "       print(a+b)\n",
    "elif o==\"-\":\n",
    "       print(a-b)\n",
    "elif o==\"*\":\n",
    "       print(a*b)\n",
    "elif o==\"/\":\n",
    "    if b != 0:\n",
    "            print(a/b)\n",
    "    else:\n",
    "            print(\"The value of b cannot be zero.\")\n",
    "else:\n",
    "    print(\"Invalid Operator\")\n",
    "       "
   ]
  },
  {
   "cell_type": "code",
   "execution_count": null,
   "id": "ae1e5a83",
   "metadata": {},
   "outputs": [],
   "source": []
  }
 ],
 "metadata": {
  "kernelspec": {
   "display_name": "Python 3 (ipykernel)",
   "language": "python",
   "name": "python3"
  },
  "language_info": {
   "codemirror_mode": {
    "name": "ipython",
    "version": 3
   },
   "file_extension": ".py",
   "mimetype": "text/x-python",
   "name": "python",
   "nbconvert_exporter": "python",
   "pygments_lexer": "ipython3",
   "version": "3.9.7"
  }
 },
 "nbformat": 4,
 "nbformat_minor": 5
}
