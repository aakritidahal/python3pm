{
 "cells": [
  {
   "cell_type": "code",
   "execution_count": 3,
   "id": "60648602",
   "metadata": {},
   "outputs": [
    {
     "data": {
      "text/html": [
       "<div>\n",
       "<style scoped>\n",
       "    .dataframe tbody tr th:only-of-type {\n",
       "        vertical-align: middle;\n",
       "    }\n",
       "\n",
       "    .dataframe tbody tr th {\n",
       "        vertical-align: top;\n",
       "    }\n",
       "\n",
       "    .dataframe thead th {\n",
       "        text-align: right;\n",
       "    }\n",
       "</style>\n",
       "<table border=\"1\" class=\"dataframe\">\n",
       "  <thead>\n",
       "    <tr style=\"text-align: right;\">\n",
       "      <th></th>\n",
       "      <th>Unnamed: 0</th>\n",
       "      <th>sn</th>\n",
       "      <th>name</th>\n",
       "      <th>age</th>\n",
       "      <th>address</th>\n",
       "      <th>phone</th>\n",
       "    </tr>\n",
       "  </thead>\n",
       "  <tbody>\n",
       "    <tr>\n",
       "      <th>0</th>\n",
       "      <td>0</td>\n",
       "      <td>1</td>\n",
       "      <td>shyam</td>\n",
       "      <td>34</td>\n",
       "      <td>ktm</td>\n",
       "      <td>988736333</td>\n",
       "    </tr>\n",
       "    <tr>\n",
       "      <th>1</th>\n",
       "      <td>1</td>\n",
       "      <td>2</td>\n",
       "      <td>hari</td>\n",
       "      <td>23</td>\n",
       "      <td>pkr</td>\n",
       "      <td>9876273743</td>\n",
       "    </tr>\n",
       "    <tr>\n",
       "      <th>2</th>\n",
       "      <td>2</td>\n",
       "      <td>3</td>\n",
       "      <td>sabin</td>\n",
       "      <td>32</td>\n",
       "      <td>bkt</td>\n",
       "      <td>9835021830</td>\n",
       "    </tr>\n",
       "    <tr>\n",
       "      <th>3</th>\n",
       "      <td>3</td>\n",
       "      <td>4</td>\n",
       "      <td>ram</td>\n",
       "      <td>21</td>\n",
       "      <td>ktm</td>\n",
       "      <td>9846363733</td>\n",
       "    </tr>\n",
       "    <tr>\n",
       "      <th>4</th>\n",
       "      <td>4</td>\n",
       "      <td>5</td>\n",
       "      <td>nabin</td>\n",
       "      <td>44</td>\n",
       "      <td>pkr</td>\n",
       "      <td>9870184844</td>\n",
       "    </tr>\n",
       "    <tr>\n",
       "      <th>5</th>\n",
       "      <td>5</td>\n",
       "      <td>6</td>\n",
       "      <td>akash</td>\n",
       "      <td>31</td>\n",
       "      <td>bkt</td>\n",
       "      <td>9847385478</td>\n",
       "    </tr>\n",
       "  </tbody>\n",
       "</table>\n",
       "</div>"
      ],
      "text/plain": [
       "   Unnamed: 0  sn   name  age address       phone\n",
       "0           0   1  shyam   34     ktm   988736333\n",
       "1           1   2   hari   23     pkr  9876273743\n",
       "2           2   3  sabin   32     bkt  9835021830\n",
       "3           3   4    ram   21     ktm  9846363733\n",
       "4           4   5  nabin   44     pkr  9870184844\n",
       "5           5   6  akash   31     bkt  9847385478"
      ]
     },
     "execution_count": 3,
     "metadata": {},
     "output_type": "execute_result"
    }
   ],
   "source": [
    "import pandas as pd \n",
    "df = pd.read_csv('datas.csv')\n",
    "df "
   ]
  },
  {
   "cell_type": "code",
   "execution_count": 4,
   "id": "8b5cb4e9",
   "metadata": {},
   "outputs": [
    {
     "name": "stdout",
     "output_type": "stream",
     "text": [
      "   Unnamed: 0  sn   name  age address       phone\n",
      "0           0   1  shyam   34     ktm   988736333\n",
      "1           1   2   hari   23     pkr  9876273743\n",
      "2           2   3  sabin   32     bkt  9835021830\n",
      "3           3   4    ram   21     ktm  9846363733\n",
      "4           4   5  nabin   44     pkr  9870184844\n"
     ]
    }
   ],
   "source": [
    "print(df.head())\n"
   ]
  },
  {
   "cell_type": "code",
   "execution_count": null,
   "id": "3d0c6d15",
   "metadata": {},
   "outputs": [],
   "source": []
  }
 ],
 "metadata": {
  "kernelspec": {
   "display_name": "Python 3 (ipykernel)",
   "language": "python",
   "name": "python3"
  },
  "language_info": {
   "codemirror_mode": {
    "name": "ipython",
    "version": 3
   },
   "file_extension": ".py",
   "mimetype": "text/x-python",
   "name": "python",
   "nbconvert_exporter": "python",
   "pygments_lexer": "ipython3",
   "version": "3.9.7"
  }
 },
 "nbformat": 4,
 "nbformat_minor": 5
}
