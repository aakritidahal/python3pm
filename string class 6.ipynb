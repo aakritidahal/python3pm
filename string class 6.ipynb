{
 "cells": [
  {
   "cell_type": "code",
   "execution_count": 1,
   "id": "567ace6a",
   "metadata": {},
   "outputs": [
    {
     "name": "stdout",
     "output_type": "stream",
     "text": [
      "hello world\n",
      "<class 'str'>\n"
     ]
    }
   ],
   "source": [
    "a =\"hello world\"\n",
    "print (a)\n",
    "print(type(a))"
   ]
  },
  {
   "cell_type": "code",
   "execution_count": 4,
   "id": "87e108ed",
   "metadata": {},
   "outputs": [
    {
     "name": "stdout",
     "output_type": "stream",
     "text": [
      "hello world\n"
     ]
    }
   ],
   "source": [
    "a = \"hello \"\n",
    "b = \"world\"\n",
    "c = a +b\n",
    "print(c)"
   ]
  },
  {
   "cell_type": "code",
   "execution_count": 6,
   "id": "e52bce16",
   "metadata": {},
   "outputs": [
    {
     "name": "stdout",
     "output_type": "stream",
     "text": [
      "hello world\n",
      "hello world\n",
      "\n"
     ]
    }
   ],
   "source": [
    "a = \"hello world\\n\"\n",
    "print(a*2)"
   ]
  },
  {
   "cell_type": "code",
   "execution_count": 8,
   "id": "962ed6a0",
   "metadata": {},
   "outputs": [
    {
     "name": "stdout",
     "output_type": "stream",
     "text": [
      "l\n"
     ]
    }
   ],
   "source": [
    "a =\"hello world\"\n",
    "print(a[2])"
   ]
  },
  {
   "cell_type": "code",
   "execution_count": 9,
   "id": "f1a55bad",
   "metadata": {},
   "outputs": [
    {
     "name": "stdout",
     "output_type": "stream",
     "text": [
      "hello\n"
     ]
    }
   ],
   "source": [
    "a =\"hello world\"\n",
    "print(a[0:5])"
   ]
  },
  {
   "cell_type": "code",
   "execution_count": 10,
   "id": "355d9b3c",
   "metadata": {},
   "outputs": [
    {
     "name": "stdout",
     "output_type": "stream",
     "text": [
      "hello worl\n"
     ]
    }
   ],
   "source": [
    "a =\"hello world\"\n",
    "print(a[0:10:1])"
   ]
  },
  {
   "cell_type": "code",
   "execution_count": 11,
   "id": "a2271608",
   "metadata": {},
   "outputs": [
    {
     "name": "stdout",
     "output_type": "stream",
     "text": [
      "hlowr\n"
     ]
    }
   ],
   "source": [
    "a =\"hello world\"\n",
    "print(a[0:10:2])"
   ]
  },
  {
   "cell_type": "code",
   "execution_count": 12,
   "id": "69157f7f",
   "metadata": {},
   "outputs": [
    {
     "name": "stdout",
     "output_type": "stream",
     "text": [
      "hello world\n"
     ]
    }
   ],
   "source": [
    "a =\"hello world\"\n",
    "print(a[0:11:1])"
   ]
  },
  {
   "cell_type": "code",
   "execution_count": 13,
   "id": "3b2a6cf4",
   "metadata": {},
   "outputs": [
    {
     "name": "stdout",
     "output_type": "stream",
     "text": [
      "hello\n",
      " world\n"
     ]
    }
   ],
   "source": [
    "a =\"hello world\"\n",
    "b= a[0:5]\n",
    "c =a[5:]\n",
    "print(b)\n",
    "print(c)"
   ]
  },
  {
   "cell_type": "code",
   "execution_count": null,
   "id": "f9993d16",
   "metadata": {},
   "outputs": [],
   "source": [
    "a =\"hello world\"\n",
    "a[-3]"
   ]
  },
  {
   "cell_type": "code",
   "execution_count": 15,
   "id": "4b1d4175",
   "metadata": {},
   "outputs": [
    {
     "name": "stdout",
     "output_type": "stream",
     "text": [
      "dlrow olleh\n"
     ]
    }
   ],
   "source": [
    "a =\"hello world\"\n",
    "l =len(a)\n",
    "print(a[l::-1])"
   ]
  },
  {
   "cell_type": "code",
   "execution_count": 16,
   "id": "3a0dff1e",
   "metadata": {},
   "outputs": [
    {
     "name": "stdout",
     "output_type": "stream",
     "text": [
      "dlrow olleh\n"
     ]
    }
   ],
   "source": [
    "a =\"hello world\"\n",
    "print(a[::-1])"
   ]
  },
  {
   "cell_type": "code",
   "execution_count": 21,
   "id": "8cdad68a",
   "metadata": {},
   "outputs": [
    {
     "name": "stdout",
     "output_type": "stream",
     "text": [
      "enter name =ram\n",
      "enter age =12\n",
      "enter address =Kathmandu\n",
      "hello i am ram I am from Kathmandu I am 12 years old\n"
     ]
    }
   ],
   "source": [
    "#string formatting\n",
    "name = input(\"enter name =\")\n",
    "age = int(input(\"enter age =\"))\n",
    "add = input(\"enter address =\")\n",
    "\n",
    "info = f\"hello i am {name} I am from {add} I am {age} years old\"\n",
    "print(info)"
   ]
  },
  {
   "cell_type": "code",
   "execution_count": 24,
   "id": "fd8fae65",
   "metadata": {},
   "outputs": [
    {
     "name": "stdout",
     "output_type": "stream",
     "text": [
      "enter name =ram\n",
      "yes\n",
      "2\n"
     ]
    }
   ],
   "source": [
    "a = 'ram shyam hari gita ravi ram nabin'\n",
    "name = input(\"enter name =\")\n",
    "if name in a:\n",
    "    print(\"yes\")\n",
    "    print(a.count(name))"
   ]
  },
  {
   "cell_type": "code",
   "execution_count": 26,
   "id": "ecc07888",
   "metadata": {},
   "outputs": [
    {
     "data": {
      "text/plain": [
       "'RAM SHYAM HARI GITA RAVI RAM NABIN'"
      ]
     },
     "execution_count": 26,
     "metadata": {},
     "output_type": "execute_result"
    }
   ],
   "source": [
    "a = 'ram shyam hari gita ravi ram nabin'\n",
    "a.upper()\n"
   ]
  },
  {
   "cell_type": "code",
   "execution_count": 31,
   "id": "b3b945a7",
   "metadata": {},
   "outputs": [
    {
     "name": "stdout",
     "output_type": "stream",
     "text": [
      "enter name =rAm\n",
      "yes\n",
      "2\n"
     ]
    }
   ],
   "source": [
    "a = 'Ram Shyam Hari Gita Ravi Ram Nabin'.lower()\n",
    "name = input(\"enter name =\").lower()\n",
    "if name in a:\n",
    "    print(\"yes\")\n",
    "    print(a.count(name))\n",
    "    "
   ]
  },
  {
   "cell_type": "code",
   "execution_count": 32,
   "id": "2243208b",
   "metadata": {},
   "outputs": [
    {
     "data": {
      "text/plain": [
       "'Ram Shyam Hari Gita Ravi Ram Nabin'"
      ]
     },
     "execution_count": 32,
     "metadata": {},
     "output_type": "execute_result"
    }
   ],
   "source": [
    "a = 'ram shyam hari gita ravi ram nabin'\n",
    "a.title()"
   ]
  },
  {
   "cell_type": "code",
   "execution_count": 33,
   "id": "c1888660",
   "metadata": {},
   "outputs": [
    {
     "name": "stdout",
     "output_type": "stream",
     "text": [
      "ram shyam hari gita ravi ram nabin\n"
     ]
    }
   ],
   "source": [
    "a = 'ram shyam hari gita ravi ram nabin'\n",
    "a.upper()\n",
    "print(a)\n",
    "#immutable data type"
   ]
  },
  {
   "cell_type": "code",
   "execution_count": 34,
   "id": "0fa559db",
   "metadata": {},
   "outputs": [
    {
     "name": "stdout",
     "output_type": "stream",
     "text": [
      "RAM SHYAM HARI GITA RAVI RAM NABIN\n"
     ]
    }
   ],
   "source": [
    "a = 'ram shyam hari gita ravi ram nabin'\n",
    "a = a.upper()\n",
    "print(a)"
   ]
  },
  {
   "cell_type": "code",
   "execution_count": 38,
   "id": "c6094871",
   "metadata": {},
   "outputs": [
    {
     "name": "stdout",
     "output_type": "stream",
     "text": [
      "Ram shyam hari gita ravi Ram nabin\n"
     ]
    }
   ],
   "source": [
    "a = 'ram shyam hari gita ravi ram nabin'\n",
    "a = a.replace('ram','Ram')\n",
    "print(a)"
   ]
  },
  {
   "cell_type": "code",
   "execution_count": 39,
   "id": "75155e3f",
   "metadata": {},
   "outputs": [
    {
     "name": "stdout",
     "output_type": "stream",
     "text": [
      " shyam hari gita ravi  nabin\n"
     ]
    }
   ],
   "source": [
    "a = 'ram shyam hari gita ravi ram nabin'\n",
    "a = a.replace('ram','')\n",
    "print(a)"
   ]
  },
  {
   "cell_type": "code",
   "execution_count": 43,
   "id": "32fb6695",
   "metadata": {},
   "outputs": [
    {
     "data": {
      "text/plain": [
       "2"
      ]
     },
     "execution_count": 43,
     "metadata": {},
     "output_type": "execute_result"
    }
   ],
   "source": [
    "a = 10\n",
    "b = 2\n",
    "a\n",
    "b\n"
   ]
  },
  {
   "cell_type": "code",
   "execution_count": 2,
   "id": "9e277d22",
   "metadata": {},
   "outputs": [],
   "source": [
    "# #wap to develop billing application using string and loop\n",
    "# name\n",
    "# price\n",
    "# quantity\n",
    "# total\n",
    "\n",
    "# grand total"
   ]
  },
  {
   "cell_type": "code",
   "execution_count": 5,
   "id": "35f740a2",
   "metadata": {},
   "outputs": [
    {
     "name": "stdout",
     "output_type": "stream",
     "text": [
      "enter n= 2\n",
      "Enter name =bread\n",
      "Enter price =50\n",
      "Enter quantity =5\n",
      "Enter name =milk\n",
      "Enter price =5\n",
      "Enter quantity =10\n",
      " The grand total amt is 50\n"
     ]
    }
   ],
   "source": [
    "n = int(input(\"enter n= \"))\n",
    "s = 0\n",
    "for i in range (n): \n",
    "    Name = input(\"Enter name =\")\n",
    "    price = int(input(\"Enter price =\"))\n",
    "    quantity = int(input(\"Enter quantity =\"))\n",
    "    total = price*quantity \n",
    "    info = f\" The grand total amt is {total}\"\n",
    "    print(info, \"total\" total)\n",
    "    s = s+total\n",
    "        \n",
    "print(info)\n"
   ]
  },
  {
   "cell_type": "code",
   "execution_count": null,
   "id": "4b7d6158",
   "metadata": {},
   "outputs": [],
   "source": []
  }
 ],
 "metadata": {
  "kernelspec": {
   "display_name": "Python 3 (ipykernel)",
   "language": "python",
   "name": "python3"
  },
  "language_info": {
   "codemirror_mode": {
    "name": "ipython",
    "version": 3
   },
   "file_extension": ".py",
   "mimetype": "text/x-python",
   "name": "python",
   "nbconvert_exporter": "python",
   "pygments_lexer": "ipython3",
   "version": "3.9.7"
  }
 },
 "nbformat": 4,
 "nbformat_minor": 5
}
