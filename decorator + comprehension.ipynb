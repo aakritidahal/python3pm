{
 "cells": [
  {
   "cell_type": "code",
   "execution_count": 5,
   "id": "0676a698",
   "metadata": {},
   "outputs": [
    {
     "name": "stdout",
     "output_type": "stream",
     "text": [
      "hello world\n"
     ]
    }
   ],
   "source": [
    "def main():\n",
    "    value = \"hello world\"\n",
    "    def inner_function():\n",
    "        \n",
    "        print (value) \n",
    "    return inner_function()\n",
    "    \n",
    "main()"
   ]
  },
  {
   "cell_type": "code",
   "execution_count": 4,
   "id": "4aa8c28a",
   "metadata": {},
   "outputs": [
    {
     "name": "stdout",
     "output_type": "stream",
     "text": [
      "hello world\n"
     ]
    }
   ],
   "source": [
    "value = \"hello world\"\n",
    "def main():\n",
    "    def inner_function():\n",
    "        print (value) \n",
    "    return inner_function()\n",
    "    \n",
    "main()"
   ]
  },
  {
   "cell_type": "code",
   "execution_count": 8,
   "id": "dc0d6397",
   "metadata": {},
   "outputs": [
    {
     "name": "stdout",
     "output_type": "stream",
     "text": [
      "hello world\n"
     ]
    }
   ],
   "source": [
    "def outer_function (fun):\n",
    "    \n",
    "    def inner_function():\n",
    "        x = fun()\n",
    "    return inner_function()\n",
    "@outer_function\n",
    "def hello():\n",
    "    print('hello world')"
   ]
  },
  {
   "cell_type": "code",
   "execution_count": 11,
   "id": "81146946",
   "metadata": {},
   "outputs": [
    {
     "name": "stdout",
     "output_type": "stream",
     "text": [
      "hello world\n"
     ]
    }
   ],
   "source": [
    "def strings(function):\n",
    "    def wrapper():\n",
    "        fun = function()\n",
    "        x = fun.lower()\n",
    "        return x\n",
    "    return wrapper\n",
    "\n",
    "@strings\n",
    "def info():\n",
    "    return \"Hello World\"\n",
    "print(info())"
   ]
  },
  {
   "cell_type": "code",
   "execution_count": 12,
   "id": "69846228",
   "metadata": {},
   "outputs": [
    {
     "name": "stdout",
     "output_type": "stream",
     "text": [
      "[0, 1, 2, 3, 4, 5, 6, 7, 8, 9, 10, 11, 12, 13, 14, 15, 16, 17, 18, 19]\n"
     ]
    }
   ],
   "source": [
    "#comprehensions: list, dictionary\n",
    "a = []\n",
    "for i in range(0,20):\n",
    "    a.append(i)\n",
    "print(a)\n",
    "    "
   ]
  },
  {
   "cell_type": "code",
   "execution_count": 13,
   "id": "9ec399fc",
   "metadata": {},
   "outputs": [
    {
     "data": {
      "text/plain": [
       "[0, 1, 2, 3, 4, 5, 6, 7, 8, 9, 10, 11, 12, 13, 14, 15, 16, 17, 18, 19]"
      ]
     },
     "execution_count": 13,
     "metadata": {},
     "output_type": "execute_result"
    }
   ],
   "source": [
    "[ i for i in range (0,20)]"
   ]
  },
  {
   "cell_type": "code",
   "execution_count": 14,
   "id": "e8092e79",
   "metadata": {},
   "outputs": [
    {
     "data": {
      "text/plain": [
       "[0, 2, 4, 6, 8, 10, 12, 14, 16, 18]"
      ]
     },
     "execution_count": 14,
     "metadata": {},
     "output_type": "execute_result"
    }
   ],
   "source": [
    "[ i for i in range (0,20) if i%2==0]"
   ]
  },
  {
   "cell_type": "code",
   "execution_count": 15,
   "id": "fdc15b9b",
   "metadata": {},
   "outputs": [
    {
     "data": {
      "text/plain": [
       "[456, 573, 435]"
      ]
     },
     "execution_count": 15,
     "metadata": {},
     "output_type": "execute_result"
    }
   ],
   "source": [
    "a = [233, 456, 573,983,986, 780.2838, 521, 435]\n",
    "[i for i in a if i%3==0]"
   ]
  },
  {
   "cell_type": "code",
   "execution_count": 16,
   "id": "45069f37",
   "metadata": {},
   "outputs": [
    {
     "name": "stdout",
     "output_type": "stream",
     "text": [
      "['apple', 'axe']\n"
     ]
    }
   ],
   "source": [
    "a = ['apple', 'ball','cat','axe','lion','zebra']\n",
    "b = [i for i in a if i[0]=='a' ]\n",
    "print(b)"
   ]
  },
  {
   "cell_type": "code",
   "execution_count": 17,
   "id": "bc3fd6b4",
   "metadata": {},
   "outputs": [
    {
     "data": {
      "text/plain": [
       "{1: 1, 2: 4, 3: 9, 4: 16, 5: 25, 6: 36, 7: 49, 8: 64, 9: 81, 10: 100}"
      ]
     },
     "execution_count": 17,
     "metadata": {},
     "output_type": "execute_result"
    }
   ],
   "source": [
    "d = {i: i**2 for i in range(1,11)}\n",
    "d"
   ]
  },
  {
   "cell_type": "code",
   "execution_count": 20,
   "id": "9faa3fff",
   "metadata": {},
   "outputs": [
    {
     "data": {
      "text/plain": [
       "{'apple': 'APPLE',\n",
       " 'ball': 'BALL',\n",
       " 'cat': 'CAT',\n",
       " 'axe': 'AXE',\n",
       " 'lion': 'LION',\n",
       " 'zebra': 'ZEBRA'}"
      ]
     },
     "execution_count": 20,
     "metadata": {},
     "output_type": "execute_result"
    }
   ],
   "source": [
    "a = ['apple', 'ball','cat','axe','lion','zebra']\n",
    "d = {i: i.upper() for i in a}\n",
    "d\n"
   ]
  },
  {
   "cell_type": "code",
   "execution_count": 22,
   "id": "37fcc989",
   "metadata": {},
   "outputs": [
    {
     "name": "stdout",
     "output_type": "stream",
     "text": [
      "2022-04-26 15:53:02.538413\n"
     ]
    }
   ],
   "source": [
    "import datetime\n",
    "\n",
    "x = datetime.datetime.now()\n",
    "print(x)"
   ]
  },
  {
   "cell_type": "code",
   "execution_count": 23,
   "id": "4e351394",
   "metadata": {},
   "outputs": [
    {
     "name": "stdout",
     "output_type": "stream",
     "text": [
      "2022\n",
      "Tue Apr 26 15:54:11 2022\n"
     ]
    }
   ],
   "source": [
    "import datetime\n",
    "\n",
    "x = datetime.datetime.now()\n",
    "\n",
    "print(x.year)\n",
    "print (x.strftime('%c'))"
   ]
  },
  {
   "cell_type": "code",
   "execution_count": 28,
   "id": "aa964565",
   "metadata": {},
   "outputs": [
    {
     "name": "stdout",
     "output_type": "stream",
     "text": [
      "['axe']\n",
      "0:00:00\n"
     ]
    }
   ],
   "source": [
    "import datetime\n",
    "\n",
    "x = datetime.datetime.now()\n",
    "a = ['ball','cat','axe','lion','zebra']\n",
    "b = [i for i in a if i[0]=='a' ]\n",
    "print(b)\n",
    "y = datetime.datetime.now()\n",
    "print(y-x)\n"
   ]
  },
  {
   "cell_type": "code",
   "execution_count": null,
   "id": "86e1558f",
   "metadata": {},
   "outputs": [],
   "source": []
  },
  {
   "cell_type": "code",
   "execution_count": null,
   "id": "63e9e0e0",
   "metadata": {},
   "outputs": [],
   "source": []
  }
 ],
 "metadata": {
  "kernelspec": {
   "display_name": "Python 3 (ipykernel)",
   "language": "python",
   "name": "python3"
  },
  "language_info": {
   "codemirror_mode": {
    "name": "ipython",
    "version": 3
   },
   "file_extension": ".py",
   "mimetype": "text/x-python",
   "name": "python",
   "nbconvert_exporter": "python",
   "pygments_lexer": "ipython3",
   "version": "3.9.7"
  }
 },
 "nbformat": 4,
 "nbformat_minor": 5
}
