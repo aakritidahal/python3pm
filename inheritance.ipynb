{
 "cells": [
  {
   "cell_type": "code",
   "execution_count": 1,
   "id": "f9b64ad5",
   "metadata": {},
   "outputs": [],
   "source": [
    "# class A:\n",
    "#     pass\n",
    "# class B (A):\n",
    "#     pass\n",
    "\n",
    "# obj = B()"
   ]
  },
  {
   "cell_type": "code",
   "execution_count": 5,
   "id": "ba074feb",
   "metadata": {},
   "outputs": [
    {
     "name": "stdout",
     "output_type": "stream",
     "text": [
      "enter name =Namita\n",
      "enter add =Boston\n",
      " hello my name is Namita. I am from Boston\n"
     ]
    }
   ],
   "source": [
    "class A:\n",
    "    def __init__ (self):\n",
    "        self.name = input('enter name =')\n",
    "        self.add = input('enter add =')\n",
    "\n",
    "class B(A):\n",
    "    def info(self):\n",
    "        print (f\" hello my name is {self.name}. I am from {self.add}\")\n",
    "        \n",
    "obj = B()\n",
    "obj.info()"
   ]
  },
  {
   "cell_type": "code",
   "execution_count": 6,
   "id": "67b19772",
   "metadata": {},
   "outputs": [
    {
     "name": "stdout",
     "output_type": "stream",
     "text": [
      "enter name =Namita\n",
      "enter add =Boston\n",
      " hello my name is Namita. I am from Boston\n"
     ]
    }
   ],
   "source": [
    "class A:\n",
    "    def __init__ (self,name,add):\n",
    "        self.name = name\n",
    "        self.add = add\n",
    "        \n",
    "\n",
    "class B(A):\n",
    "    def info(self):\n",
    "        print (f\" hello my name is {self.name}. I am from {self.add}\")\n",
    "        \n",
    "name = input('enter name =')\n",
    "add = input('enter add =')\n",
    "\n",
    "obj = B(name, add)\n",
    "obj.info()"
   ]
  },
  {
   "cell_type": "code",
   "execution_count": 8,
   "id": "914f3202",
   "metadata": {},
   "outputs": [],
   "source": [
    "class A:\n",
    "    pass\n",
    "class B(A):\n",
    "    pass\n",
    "class C(B):\n",
    "    pass\n",
    "\n",
    "obj = C()\n",
    "#multilevel type of inheritance"
   ]
  },
  {
   "cell_type": "code",
   "execution_count": 9,
   "id": "59069cea",
   "metadata": {},
   "outputs": [],
   "source": [
    "class A:\n",
    "    pass\n",
    "class B:\n",
    "    pass\n",
    "class C(A,B):    #deprived class\n",
    "    pass\n",
    "\n",
    "obj = C()"
   ]
  },
  {
   "cell_type": "code",
   "execution_count": 15,
   "id": "33c5e3af",
   "metadata": {},
   "outputs": [
    {
     "name": "stdout",
     "output_type": "stream",
     "text": [
      "Hello world I am Ram I am 34 years old from Kathmandu \n"
     ]
    }
   ],
   "source": [
    "class A:\n",
    "    def __init__(self, add):\n",
    "        self.add = add\n",
    "    def address(self):\n",
    "        print(f\"I am from {self.add}\")\n",
    "    \n",
    "class B(A):\n",
    "    def __init__ (self,age, add):\n",
    "        self.age = age\n",
    "        A.__init__(self,add)\n",
    "    def ages (self):\n",
    "        print(f\"I am {self.add} I am from {self.add}\")\n",
    "    \n",
    "    \n",
    "class C(B): \n",
    "    def __init__ (self, name, age, add):\n",
    "              self.name = name\n",
    "              B.__init__(self,age,add)\n",
    "              \n",
    "    def info (self):\n",
    "              print (f'Hello world I am {self.name} I am {self.age} years old from {self.add} ')\n",
    "\n",
    "obj = C(\"Ram\",34, \"Kathmandu\")\n",
    "obj.info()"
   ]
  },
  {
   "cell_type": "code",
   "execution_count": 16,
   "id": "bdbb6b8d",
   "metadata": {},
   "outputs": [
    {
     "name": "stdout",
     "output_type": "stream",
     "text": [
      "Hello world I am Ram I am 34 years old from Kathmandu \n"
     ]
    }
   ],
   "source": [
    "class A:\n",
    "    def __init__(self, add):\n",
    "        self.add = add\n",
    "    def address(self):\n",
    "        print(f\"I am from {self.add}\")\n",
    "    \n",
    "class B:\n",
    "    def __init__ (self,age):\n",
    "        self.age = age\n",
    "        \n",
    "    def ages (self):\n",
    "        print(f\"I am {self.age}\")\n",
    "    \n",
    "    \n",
    "class C(A,B): \n",
    "    def __init__ (self, name, age, add):\n",
    "              self.name = name\n",
    "              B.__init__(self,age)\n",
    "              A.__init__(self,add)\n",
    "    def info (self):\n",
    "              print (f'Hello world I am {self.name} I am {self.age} years old from {self.add} ')\n",
    "\n",
    "obj = C(\"Ram\",34, \"Kathmandu\")\n",
    "obj.info()"
   ]
  },
  {
   "cell_type": "code",
   "execution_count": 20,
   "id": "22e8640a",
   "metadata": {},
   "outputs": [
    {
     "name": "stdout",
     "output_type": "stream",
     "text": [
      "Hello world i am from Kathmandu and I am 35 years old\n"
     ]
    }
   ],
   "source": [
    "class A:\n",
    "    def __init__(self):\n",
    "        self.add = \"Kathmandu\"\n",
    "    \n",
    "class B:\n",
    "    def __init__(self):\n",
    "        self.age = \"35\"\n",
    "    def b(self):\n",
    "        pass\n",
    "\n",
    "class C (A,B):\n",
    "    def __init__(self):\n",
    "        A.__init__(self)\n",
    "        B.__init__(self)\n",
    "    def info(self):\n",
    "        print (f\"Hello world i am from {self.add} and I am {self.age} years old\")\n",
    "        \n",
    "obj = C()\n",
    "obj.info()\n",
    "               \n",
    "               \n",
    "    "
   ]
  },
  {
   "cell_type": "code",
   "execution_count": 2,
   "id": "45083176",
   "metadata": {},
   "outputs": [
    {
     "name": "stdout",
     "output_type": "stream",
     "text": [
      "Ram\n",
      "34\n",
      "Kathmandu\n"
     ]
    }
   ],
   "source": [
    "#public members\n",
    "class Info:\n",
    "    def __init__ (self, name, age, add):\n",
    "        self.name = name\n",
    "        self.age = age\n",
    "        self.add = add\n",
    "        \n",
    "obj = Info(\"Ram\", 34, \"Kathmandu\")\n",
    "print(obj.name)\n",
    "print(obj.age)\n",
    "print(obj.add)\n"
   ]
  },
  {
   "cell_type": "code",
   "execution_count": 3,
   "id": "bc91a2ae",
   "metadata": {},
   "outputs": [
    {
     "name": "stdout",
     "output_type": "stream",
     "text": [
      "Ram\n",
      "34\n",
      "Kathmandu\n"
     ]
    }
   ],
   "source": [
    "#protected members\n",
    "class Info:\n",
    "    def __init__ (self, name, age, add):\n",
    "        self._name = name\n",
    "        self._age = age\n",
    "        self._add = add\n",
    "        \n",
    "obj = Info(\"Ram\", 34, \"Kathmandu\")\n",
    "print(obj._name)\n",
    "print(obj._age)\n",
    "print(obj._add)\n"
   ]
  },
  {
   "cell_type": "code",
   "execution_count": 4,
   "id": "5c3a7cfb",
   "metadata": {},
   "outputs": [
    {
     "ename": "AttributeError",
     "evalue": "'Info' object has no attribute '__name'",
     "output_type": "error",
     "traceback": [
      "\u001b[1;31m---------------------------------------------------------------------------\u001b[0m",
      "\u001b[1;31mAttributeError\u001b[0m                            Traceback (most recent call last)",
      "\u001b[1;32m~\\AppData\\Local\\Temp/ipykernel_19216/2353070987.py\u001b[0m in \u001b[0;36m<module>\u001b[1;34m\u001b[0m\n\u001b[0;32m      7\u001b[0m \u001b[1;33m\u001b[0m\u001b[0m\n\u001b[0;32m      8\u001b[0m \u001b[0mobj\u001b[0m \u001b[1;33m=\u001b[0m \u001b[0mInfo\u001b[0m\u001b[1;33m(\u001b[0m\u001b[1;34m\"Ram\"\u001b[0m\u001b[1;33m,\u001b[0m \u001b[1;36m34\u001b[0m\u001b[1;33m,\u001b[0m \u001b[1;34m\"Kathmandu\"\u001b[0m\u001b[1;33m)\u001b[0m\u001b[1;33m\u001b[0m\u001b[1;33m\u001b[0m\u001b[0m\n\u001b[1;32m----> 9\u001b[1;33m \u001b[0mprint\u001b[0m\u001b[1;33m(\u001b[0m\u001b[0mobj\u001b[0m\u001b[1;33m.\u001b[0m\u001b[0m__name\u001b[0m\u001b[1;33m)\u001b[0m\u001b[1;33m\u001b[0m\u001b[1;33m\u001b[0m\u001b[0m\n\u001b[0m\u001b[0;32m     10\u001b[0m \u001b[0mprint\u001b[0m\u001b[1;33m(\u001b[0m\u001b[0mobj\u001b[0m\u001b[1;33m.\u001b[0m\u001b[0m__age\u001b[0m\u001b[1;33m)\u001b[0m\u001b[1;33m\u001b[0m\u001b[1;33m\u001b[0m\u001b[0m\n\u001b[0;32m     11\u001b[0m \u001b[0mprint\u001b[0m\u001b[1;33m(\u001b[0m\u001b[0mobj\u001b[0m\u001b[1;33m.\u001b[0m\u001b[0m__add\u001b[0m\u001b[1;33m)\u001b[0m\u001b[1;33m\u001b[0m\u001b[1;33m\u001b[0m\u001b[0m\n",
      "\u001b[1;31mAttributeError\u001b[0m: 'Info' object has no attribute '__name'"
     ]
    }
   ],
   "source": [
    "#private members\n",
    "class Info:\n",
    "    def __init__ (self, name, age, add):\n",
    "        self.__name = name\n",
    "        self.__age = age\n",
    "        self.__add = add\n",
    "        \n",
    "obj = Info(\"Ram\", 34, \"Kathmandu\")\n",
    "print(obj.__name)\n",
    "print(obj.__age)\n",
    "print(obj.__add)\n"
   ]
  },
  {
   "cell_type": "code",
   "execution_count": 6,
   "id": "362ebf6c",
   "metadata": {},
   "outputs": [
    {
     "name": "stdout",
     "output_type": "stream",
     "text": [
      "Ram\n",
      "34\n",
      "Kathmandu\n"
     ]
    }
   ],
   "source": [
    "#private members\n",
    "class Info:\n",
    "    def __init__ (self, name, age, add):\n",
    "        self.__name = name\n",
    "        self.__age = age\n",
    "        self.__add = add\n",
    "        \n",
    "obj = Info(\"Ram\", 34, \"Kathmandu\")\n",
    "print(obj._Info__name)\n",
    "print(obj._Info__age)\n",
    "print(obj._Info__add)"
   ]
  },
  {
   "cell_type": "code",
   "execution_count": 9,
   "id": "ce90608b",
   "metadata": {},
   "outputs": [
    {
     "name": "stdout",
     "output_type": "stream",
     "text": [
      "enter name =ram\n",
      "enter age =23\n",
      "enter add =ktm\n",
      " hello my name is ram.I am 23 \n",
      "hello world I am ram. I am 23 from ktm\n"
     ]
    }
   ],
   "source": [
    "class A:\n",
    "    def __init__ (self,name,age,add):\n",
    "        self.name = name\n",
    "        self._age = age\n",
    "        self.__add = add\n",
    "    def a (self):\n",
    "        print(f'hello world I am {self.name}. I am {self._age} from {self.__add}')\n",
    "        \n",
    "\n",
    "class B(A):\n",
    "    def info(self):\n",
    "        print (f\" hello my name is {self.name}.I am {self._age} \")\n",
    "        \n",
    "name = input('enter name =')\n",
    "age = int(input('enter age ='))\n",
    "add = input('enter add =')\n",
    "\n",
    "obj = B(name,age, add)\n",
    "obj.info()\n",
    "obj.a()"
   ]
  },
  {
   "cell_type": "code",
   "execution_count": 10,
   "id": "6a5c3046",
   "metadata": {},
   "outputs": [
    {
     "name": "stdout",
     "output_type": "stream",
     "text": [
      "Hello world I am Ram I am 34 years old from Kathmandu \n"
     ]
    }
   ],
   "source": [
    "class A:\n",
    "    def __init__(self, add):\n",
    "        self._add = add\n",
    "    def address(self):\n",
    "        print(f\"I am from {self.add}\")\n",
    "    \n",
    "class B:\n",
    "    def __init__ (self,age):\n",
    "        self._age = age\n",
    "        \n",
    "    def ages (self):\n",
    "        print(f\"I am {self.age}\")\n",
    "    \n",
    "    \n",
    "class C(A,B): \n",
    "    def __init__ (self, name, age, add):\n",
    "              self.__name = name\n",
    "              B.__init__(self,age)\n",
    "              A.__init__(self,add)\n",
    "    def info (self):\n",
    "              print (f'Hello world I am {self.__name} I am {self._age} years old from {self._add} ')\n",
    "\n",
    "obj = C(\"Ram\",34, \"Kathmandu\")\n",
    "obj.info()"
   ]
  },
  {
   "cell_type": "code",
   "execution_count": 11,
   "id": "f32aa784",
   "metadata": {},
   "outputs": [
    {
     "name": "stdout",
     "output_type": "stream",
     "text": [
      "enter name =Ram\n",
      "enter add =ktm\n",
      "Hello my name is Ram\n",
      "I am from ktm\n"
     ]
    }
   ],
   "source": [
    "class A:\n",
    "    def __init__ (self,name,add):\n",
    "        self.name = name\n",
    "        self.add = add\n",
    "    def a(self):\n",
    "        return f'Hello my name is {self.name}'\n",
    "\n",
    "class B(A):\n",
    "    def info(self):\n",
    "        print(super().a())\n",
    "        print (f\"I am from {self.add}\")\n",
    "        \n",
    "name = input('enter name =')\n",
    "add = input('enter add =')\n",
    "\n",
    "obj = B(name, add)\n",
    "obj.info()"
   ]
  },
  {
   "cell_type": "code",
   "execution_count": 12,
   "id": "7a849a26",
   "metadata": {},
   "outputs": [
    {
     "data": {
      "text/plain": [
       "[['Ram', 34, 'Kathmandu'], ['Shyam', 23, 'Palpa']]"
      ]
     },
     "execution_count": 12,
     "metadata": {},
     "output_type": "execute_result"
    }
   ],
   "source": [
    "[['Ram', 34],\n",
    "[\"Shyam\", 23]]"
   ]
  },
  {
   "cell_type": "code",
   "execution_count": null,
   "id": "f20ea8d2",
   "metadata": {},
   "outputs": [],
   "source": [
    "class A:\n",
    "    def __init__ (self,name):\n",
    "        self.name = name\n",
    "        print(f'{self.name}')\n",
    "class B:\n",
    "    def __init__(self,age):\n",
    "        self.age = age\n",
    "        print(f'{self.age}')\n",
    "              \n",
    "    \n",
    "class C(A,B):\n",
    "    def __init__ (self, name, age):\n",
    "        \n",
    "    \n",
    "    \n",
    "    \n",
    "obj = C()"
   ]
  }
 ],
 "metadata": {
  "kernelspec": {
   "display_name": "Python 3 (ipykernel)",
   "language": "python",
   "name": "python3"
  },
  "language_info": {
   "codemirror_mode": {
    "name": "ipython",
    "version": 3
   },
   "file_extension": ".py",
   "mimetype": "text/x-python",
   "name": "python",
   "nbconvert_exporter": "python",
   "pygments_lexer": "ipython3",
   "version": "3.9.7"
  }
 },
 "nbformat": 4,
 "nbformat_minor": 5
}
