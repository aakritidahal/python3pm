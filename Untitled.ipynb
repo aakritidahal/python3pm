{
 "cells": [
  {
   "cell_type": "code",
   "execution_count": 15,
   "id": "737d6d9d",
   "metadata": {},
   "outputs": [
    {
     "name": "stdout",
     "output_type": "stream",
     "text": [
      "Enter a = 50\n",
      "Enter b = 40\n",
      "Enter + - * / =+\n",
      "90\n"
     ]
    }
   ],
   "source": [
    "a =int(input(\"Enter a = \"))\n",
    "b =int(input(\"Enter b = \"))\n",
    "o =input(\"Enter + - * / =\")\n",
    "       \n",
    "if o ==\"+\":\n",
    "       print(a+b)\n",
    "elif o==\"-\":\n",
    "       print(a+b)\n",
    "elif o==\"*\":\n",
    "       print(a+b)\n",
    "elif o==\"/\":\n",
    "       print(a+b)\n",
    "else:\n",
    "    print(\"Invalid Operator\")\n",
    "       "
   ]
  },
  {
   "cell_type": "code",
   "execution_count": 7,
   "id": "5c0098d0",
   "metadata": {},
   "outputs": [
    {
     "name": "stdout",
     "output_type": "stream",
     "text": [
      "False\n",
      "True\n"
     ]
    }
   ],
   "source": [
    "# and &\n",
    "print(True and False)\n",
    "\n",
    "# or /\n",
    "print (True or Flase)\n"
   ]
  },
  {
   "cell_type": "code",
   "execution_count": 16,
   "id": "a082f1f4",
   "metadata": {},
   "outputs": [
    {
     "ename": "SyntaxError",
     "evalue": "invalid syntax (Temp/ipykernel_15600/4114707723.py, line 1)",
     "output_type": "error",
     "traceback": [
      "\u001b[1;36m  File \u001b[1;32m\"C:\\Users\\Lenovo\\AppData\\Local\\Temp/ipykernel_15600/4114707723.py\"\u001b[1;36m, line \u001b[1;32m1\u001b[0m\n\u001b[1;33m    a =int(input\"Enter a = \"))\u001b[0m\n\u001b[1;37m                ^\u001b[0m\n\u001b[1;31mSyntaxError\u001b[0m\u001b[1;31m:\u001b[0m invalid syntax\n"
     ]
    }
   ],
   "source": [
    "a =int(input\"Enter a = \"))\n",
    "b =int(input\"Enter b = \"))\n",
    "o =int(\"Enter + - * / \")\n",
    "       \n",
    "if o ==\"+\":\n",
    "       print(a+b)\n",
    "elif o==\"-\":\n",
    "       print(a+b)\n",
    "elif o==\"*\":\n",
    "       print(a+b)\n",
    "elif o==\"/\" and b!=0:\n",
    "       print(a+b)\n",
    "else:\n",
    "    print(\"Invalid Operator\")"
   ]
  },
  {
   "cell_type": "code",
   "execution_count": 12,
   "id": "6b832db2",
   "metadata": {},
   "outputs": [
    {
     "ename": "SyntaxError",
     "evalue": "invalid syntax (Temp/ipykernel_15600/1106819149.py, line 1)",
     "output_type": "error",
     "traceback": [
      "\u001b[1;36m  File \u001b[1;32m\"C:\\Users\\Lenovo\\AppData\\Local\\Temp/ipykernel_15600/1106819149.py\"\u001b[1;36m, line \u001b[1;32m1\u001b[0m\n\u001b[1;33m    x =int(input\"Enter x = \"))\u001b[0m\n\u001b[1;37m                ^\u001b[0m\n\u001b[1;31mSyntaxError\u001b[0m\u001b[1;31m:\u001b[0m invalid syntax\n"
     ]
    }
   ],
   "source": [
    "x =int(input\"Enter x = \"))\n",
    "y =int(input\"Enter y = \"))\n",
    "o =int(\"Enter + - * / \")\n",
    "       \n",
    "if o ==\"+\":\n",
    "       print(a+b)\n",
    "elif o==\"-\":\n",
    "       print(a+b)\n",
    "elif o==\"*\":\n",
    "       print(a+b)\n",
    "elif o==\"/\" and b==0:\n",
    "       print(a+b)\n",
    "else:\n",
    "    print(\"Invalid Operator\")"
   ]
  },
  {
   "cell_type": "code",
   "execution_count": 19,
   "id": "d69f885d",
   "metadata": {},
   "outputs": [
    {
     "ename": "SyntaxError",
     "evalue": "invalid syntax (Temp/ipykernel_15600/2258325999.py, line 11)",
     "output_type": "error",
     "traceback": [
      "\u001b[1;36m  File \u001b[1;32m\"C:\\Users\\Lenovo\\AppData\\Local\\Temp/ipykernel_15600/2258325999.py\"\u001b[1;36m, line \u001b[1;32m11\u001b[0m\n\u001b[1;33m    elif o==\"/\" & (b!=0)\u001b[0m\n\u001b[1;37m                        ^\u001b[0m\n\u001b[1;31mSyntaxError\u001b[0m\u001b[1;31m:\u001b[0m invalid syntax\n"
     ]
    }
   ],
   "source": [
    "a =int(input(\"Enter a = \"))\n",
    "b =int(input(\"Enter b = \"))\n",
    "o =input(\"Enter + - * / =\")\n",
    "       \n",
    "if o ==\"+\":\n",
    "       print(a+b)\n",
    "elif o==\"-\":\n",
    "       print(a-b)\n",
    "elif o==\"*\":\n",
    "       print(a*b)\n",
    "elif o==\"/\" & (b!=0)\n",
    "print(a/b)\n",
    "elif o==\"/\" & (b==0)\n",
    "       print(\"The value of b cannot be zero.\")\n",
    "        \n",
    "else:\n",
    "    print(\"Invalid Operator\")"
   ]
  },
  {
   "cell_type": "code",
   "execution_count": 22,
   "id": "182be330",
   "metadata": {},
   "outputs": [
    {
     "name": "stdout",
     "output_type": "stream",
     "text": [
      "Enter per=63\n",
      "the grade is B\n"
     ]
    }
   ],
   "source": [
    "per = float(input(\"Enter per=\"))\n",
    "if (per > 60) or (per== 60):\n",
    "    print(\"the grade is B\")"
   ]
  },
  {
   "cell_type": "code",
   "execution_count": 23,
   "id": "b4bb6a68",
   "metadata": {},
   "outputs": [],
   "source": [
    "# # nested if\n",
    "# if <condition>:\n",
    "#     if<condition>:\n",
    "#         <operation>\n",
    "#         elif <condition>:\n",
    "#             <operation>\n",
    "#         else:\n",
    "#             <operations>"
   ]
  },
  {
   "cell_type": "code",
   "execution_count": null,
   "id": "418c3578",
   "metadata": {},
   "outputs": [],
   "source": [
    "x = int(input(\"Enter x= \"))\n",
    "if x>0:\n",
    "    if x %2 == 0:\n",
    "        print(\"The number is positive and even\")\n",
    "    else:\n",
    "        print(\"The number is negative and odd\")\n",
    "        \n",
    "else:\n",
    "    print(\"The number is negative\")"
   ]
  },
  {
   "cell_type": "code",
   "execution_count": 4,
   "id": "6795f40a",
   "metadata": {},
   "outputs": [
    {
     "name": "stdout",
     "output_type": "stream",
     "text": [
      "Enter x= -2\n",
      "The number is negative\n"
     ]
    }
   ],
   "source": [
    "x = int(input(\"Enter x= \"))\n",
    "if x>0:\n",
    "    if x %2 == 0:\n",
    "        print(\"The number is positive and even\")\n",
    "    else:\n",
    "        print(\"The number is negative and odd\")\n",
    "        \n",
    "else:\n",
    "    print(\"The number is negative\")"
   ]
  },
  {
   "cell_type": "code",
   "execution_count": 3,
   "id": "4b3c664d",
   "metadata": {},
   "outputs": [
    {
     "name": "stdout",
     "output_type": "stream",
     "text": [
      "Enter a = 10\n",
      "Enter b = 0\n",
      "Enter + - * / =*\n",
      "10\n"
     ]
    }
   ],
   "source": [
    "a =int(input(\"Enter a = \"))\n",
    "b =int(input(\"Enter b = \"))\n",
    "o =input(\"Enter + - * / =\")\n",
    "       \n",
    "if o ==\"+\":\n",
    "       print(a+b)\n",
    "elif o==\"-\":\n",
    "       print(a+b)\n",
    "elif o==\"*\":\n",
    "       print(a+b)\n",
    "elif o==\"/\":\n",
    "    if b != 0:\n",
    "            print(a/b)\n",
    "    else:\n",
    "            print(\"The value of b cannot be zero.\")\n",
    "else:\n",
    "    print(\"Invalid Operator\")\n",
    "       "
   ]
  },
  {
   "cell_type": "code",
   "execution_count": null,
   "id": "7afccbce",
   "metadata": {},
   "outputs": [],
   "source": []
  }
 ],
 "metadata": {
  "kernelspec": {
   "display_name": "Python 3 (ipykernel)",
   "language": "python",
   "name": "python3"
  },
  "language_info": {
   "codemirror_mode": {
    "name": "ipython",
    "version": 3
   },
   "file_extension": ".py",
   "mimetype": "text/x-python",
   "name": "python",
   "nbconvert_exporter": "python",
   "pygments_lexer": "ipython3",
   "version": "3.9.7"
  }
 },
 "nbformat": 4,
 "nbformat_minor": 5
}
