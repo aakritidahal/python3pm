{
 "cells": [
  {
   "cell_type": "code",
   "execution_count": 1,
   "id": "ae29645c",
   "metadata": {},
   "outputs": [],
   "source": [
    "# tuple\n",
    "# -indexed\n",
    "# -ordered\n",
    "# -multiple and duplicate\n",
    "# -imutable"
   ]
  },
  {
   "cell_type": "code",
   "execution_count": 3,
   "id": "329128fd",
   "metadata": {},
   "outputs": [
    {
     "name": "stdout",
     "output_type": "stream",
     "text": [
      "(1, 2, 3, 4, 5, 6)\n",
      "<class 'tuple'>\n"
     ]
    }
   ],
   "source": [
    "a = tuple()\n",
    "a = (1,2,3,4,5,6)\n",
    "print(a)\n",
    "print(type(a))"
   ]
  },
  {
   "cell_type": "code",
   "execution_count": 4,
   "id": "7fd25e4c",
   "metadata": {},
   "outputs": [
    {
     "name": "stdout",
     "output_type": "stream",
     "text": [
      "<class 'tuple'>\n",
      "<class 'str'>\n"
     ]
    }
   ],
   "source": [
    "a = (1,)       #use comma for tuple\n",
    "b =('Apple')\n",
    "print(type(a))\n",
    "print(type(b))"
   ]
  },
  {
   "cell_type": "code",
   "execution_count": 5,
   "id": "11deb453",
   "metadata": {},
   "outputs": [
    {
     "name": "stdout",
     "output_type": "stream",
     "text": [
      "Apple\n",
      "('Apple', 'Ball', 'Cat', 'Dog')\n",
      "('Apple', 'Cat')\n"
     ]
    }
   ],
   "source": [
    "a =(\"Apple\", \"Ball\", \"Cat\", \"Dog\")\n",
    "print(a[0])\n",
    "print(a[0:4])\n",
    "print(a[0:4:2])"
   ]
  },
  {
   "cell_type": "code",
   "execution_count": 6,
   "id": "08fc5326",
   "metadata": {},
   "outputs": [
    {
     "name": "stdout",
     "output_type": "stream",
     "text": [
      "('Apple', 'Ball', 'Cat', 'Dog', 'Fish')\n"
     ]
    }
   ],
   "source": [
    "a =(\"Apple\", \"Ball\", \"Cat\", \"Dog\")\n",
    "b =(\"Fish\",)   #comma\n",
    "c =a+b\n",
    "print(c)"
   ]
  },
  {
   "cell_type": "code",
   "execution_count": 7,
   "id": "b49e50d8",
   "metadata": {},
   "outputs": [
    {
     "data": {
      "text/plain": [
       "('Apple', 'Ball', 'Cat', 'Dog', 'Apple', 'Ball', 'Cat', 'Dog')"
      ]
     },
     "execution_count": 7,
     "metadata": {},
     "output_type": "execute_result"
    }
   ],
   "source": [
    "a =(\"Apple\", \"Ball\", \"Cat\", \"Dog\")\n",
    "a*2"
   ]
  },
  {
   "cell_type": "code",
   "execution_count": 8,
   "id": "3223873e",
   "metadata": {},
   "outputs": [],
   "source": [
    "# imutable i.e\n",
    "# no append() insert() update delete remove pop"
   ]
  },
  {
   "cell_type": "code",
   "execution_count": 1,
   "id": "0932f3ce",
   "metadata": {},
   "outputs": [
    {
     "name": "stdout",
     "output_type": "stream",
     "text": [
      "enter n =2\n",
      "enter x= Apple\n",
      "enter x= Ball\n",
      "('Apple', 'Ball')\n"
     ]
    }
   ],
   "source": [
    "t = tuple()\n",
    "n = int(input('enter n ='))\n",
    "for i in range(n):\n",
    "    x = input(\"enter x= \")\n",
    "    t = t+(x,)\n",
    "\n",
    "print(t)"
   ]
  },
  {
   "cell_type": "code",
   "execution_count": 2,
   "id": "52a77bd1",
   "metadata": {},
   "outputs": [
    {
     "data": {
      "text/plain": [
       "(10, 11, 12)"
      ]
     },
     "execution_count": 2,
     "metadata": {},
     "output_type": "execute_result"
    }
   ],
   "source": [
    "a = 10,11,12\n",
    "a"
   ]
  },
  {
   "cell_type": "code",
   "execution_count": 4,
   "id": "e2b9c574",
   "metadata": {},
   "outputs": [
    {
     "data": {
      "text/plain": [
       "('Ball', 'Cat', 'Dog')"
      ]
     },
     "execution_count": 4,
     "metadata": {},
     "output_type": "execute_result"
    }
   ],
   "source": [
    "a =(\"Apple\", \"Ball\", \"Cat\", \"Dog\")\n",
    "b= list(a)\n",
    "del b[0]\n",
    "a= tuple(b)\n",
    "a"
   ]
  },
  {
   "cell_type": "code",
   "execution_count": null,
   "id": "86e8d63a",
   "metadata": {},
   "outputs": [],
   "source": [
    "# tuple inside tuple\n",
    " a = ((\"Ram\", 34, \"Kathmandu\")\n",
    "     (\"Shyam\", 23,\"Lalitpur\"),\n",
    "     (\"Hari\", 54, \"Bhaktapur\"))\n",
    "a"
   ]
  },
  {
   "cell_type": "code",
   "execution_count": 7,
   "id": "ab73f758",
   "metadata": {},
   "outputs": [
    {
     "name": "stdout",
     "output_type": "stream",
     "text": [
      "(('Ram', 34, 'Kathmandu'), ('Shyam', 23, 'Lalitpur'), ('Hari', 54, 'Bhaktapur'), ('Nabin', 34, 'Chitwan'))\n"
     ]
    }
   ],
   "source": [
    " a = ((\"Ram\", 34, \"Kathmandu\"),\n",
    "     (\"Shyam\", 23,\"Lalitpur\"),\n",
    "     (\"Hari\", 54, \"Bhaktapur\"))\n",
    "b=((\"Nabin\",34, \"Chitwan\"),)\n",
    "print(a+b)"
   ]
  },
  {
   "cell_type": "code",
   "execution_count": 8,
   "id": "a7f5599c",
   "metadata": {},
   "outputs": [
    {
     "data": {
      "text/plain": [
       "[('Ram', 34, 'Kathmandu'),\n",
       " ('Shyam', 23, 'Lalitpur'),\n",
       " ('Hari', 54, 'Bhaktapur')]"
      ]
     },
     "execution_count": 8,
     "metadata": {},
     "output_type": "execute_result"
    }
   ],
   "source": [
    " a = ((\"Ram\", 34, \"Kathmandu\"),\n",
    "     (\"Shyam\", 23,\"Lalitpur\"),\n",
    "     (\"Hari\", 54, \"Bhaktapur\"))\n",
    "b=list(a)\n",
    "b"
   ]
  },
  {
   "cell_type": "code",
   "execution_count": 9,
   "id": "6bcc53e1",
   "metadata": {},
   "outputs": [
    {
     "data": {
      "text/plain": [
       "[('Shyam', 23, 'Lalitpur'), ('Hari', 54, 'Bhaktapur')]"
      ]
     },
     "execution_count": 9,
     "metadata": {},
     "output_type": "execute_result"
    }
   ],
   "source": [
    "del b[0]\n",
    "b"
   ]
  },
  {
   "cell_type": "code",
   "execution_count": 11,
   "id": "4dad59be",
   "metadata": {},
   "outputs": [
    {
     "data": {
      "text/plain": [
       "[('Shyam', 23, 'Lalitpur'), ('Hari', 54, 'Bhaktapur'), ('Nabin', 89, 'Bara')]"
      ]
     },
     "execution_count": 11,
     "metadata": {},
     "output_type": "execute_result"
    }
   ],
   "source": [
    "b.append((\"Nabin\", 89, \"Bara\"))\n",
    "b"
   ]
  },
  {
   "cell_type": "code",
   "execution_count": 12,
   "id": "38c25612",
   "metadata": {},
   "outputs": [
    {
     "data": {
      "text/plain": [
       "('Shyam', 23, 'Lalitpur')"
      ]
     },
     "execution_count": 12,
     "metadata": {},
     "output_type": "execute_result"
    }
   ],
   "source": [
    "b[0]"
   ]
  },
  {
   "cell_type": "code",
   "execution_count": 1,
   "id": "c7bcfcf6",
   "metadata": {},
   "outputs": [
    {
     "ename": "IndentationError",
     "evalue": "unexpected indent (Temp/ipykernel_8060/195970390.py, line 4)",
     "output_type": "error",
     "traceback": [
      "\u001b[1;36m  File \u001b[1;32m\"C:\\Users\\Lenovo\\AppData\\Local\\Temp/ipykernel_8060/195970390.py\"\u001b[1;36m, line \u001b[1;32m4\u001b[0m\n\u001b[1;33m    a = ((\"Ram\", 34, \"Kathmandu\"),\u001b[0m\n\u001b[1;37m    ^\u001b[0m\n\u001b[1;31mIndentationError\u001b[0m\u001b[1;31m:\u001b[0m unexpected indent\n"
     ]
    }
   ],
   "source": [
    "# wap to convert tuple inside tuple to list inside list and vice versa\n",
    "# wap to perform CRUD list inside tuple\n",
    "#([])\n",
    " a = ((\"Ram\", 34, \"Kathmandu\"),\n",
    "     (\"Shyam\", 23,\"Lalitpur\"),\n",
    "     (\"Hari\", 54, \"Bhaktapur\"))\n",
    "b = list(a)\n",
    "b"
   ]
  },
  {
   "cell_type": "code",
   "execution_count": null,
   "id": "f5f92dff",
   "metadata": {},
   "outputs": [],
   "source": []
  }
 ],
 "metadata": {
  "kernelspec": {
   "display_name": "Python 3 (ipykernel)",
   "language": "python",
   "name": "python3"
  },
  "language_info": {
   "codemirror_mode": {
    "name": "ipython",
    "version": 3
   },
   "file_extension": ".py",
   "mimetype": "text/x-python",
   "name": "python",
   "nbconvert_exporter": "python",
   "pygments_lexer": "ipython3",
   "version": "3.9.7"
  }
 },
 "nbformat": 4,
 "nbformat_minor": 5
}
